{
 "cells": [
  {
   "cell_type": "code",
   "execution_count": 1,
   "id": "a9c50304-ce46-471c-b5ce-4643834ed93d",
   "metadata": {},
   "outputs": [],
   "source": [
    "import numpy as np\n",
    "from scipy.sparse import csr_matrix\n",
    "from scipy.sparse.csgraph import breadth_first_order"
   ]
  },
  {
   "cell_type": "code",
   "execution_count": 21,
   "id": "567d93b5-f418-4436-b1f9-2357e920bbbb",
   "metadata": {},
   "outputs": [],
   "source": [
    "x = np.array([[0, 3, 3, 4, 0, 0, 0],\n",
    "               [0, 0, 0, 0, 2, 0, 0],\n",
    "               [0, 10, 0, 0, 1, 0, 0],\n",
    "               [0, 0, 0, 0, 0, 5, 0],\n",
    "               [0, 0, 0, 1, 0, 1, 2],\n",
    "               [0, 0, 0, 0, 0, 0, 5],\n",
    "               [0, 0, 0, 0, 0, 0, 0]\n",
    "               ])"
   ]
  },
  {
   "cell_type": "code",
   "execution_count": 11,
   "id": "53cbd320-c802-4ffa-b1b8-77b4940860c4",
   "metadata": {},
   "outputs": [],
   "source": [
    "# Exemplo de entrada\n",
    "dim = 6 # Dimenção do gride (dim x dim)\n",
    "coord = [[3, 2], [2, 3], [3, 3], [4, 3], [3, 4]]"
   ]
  },
  {
   "cell_type": "code",
   "execution_count": 10,
   "id": "6a142082-a41a-41fb-ae5f-53a4aae87351",
   "metadata": {},
   "outputs": [],
   "source": [
    "def geraGrid(dim, coord):\n",
    "    \"\"\"\n",
    "    1: dim = dimenção do gride  \n",
    "    2: coord = cordenadas dos pontos de partida\n",
    "    \"\"\"\n",
    "    coord = sorted(coord)\n",
    "    grid = np.zeros((dim, dim), dtype=np.int32)\n",
    "    # Marcar a cordenada dos pontos de partida com 1\n",
    "    for i in coord:\n",
    "        grid[i[0], i[1]] = 1\n",
    "    return grid"
   ]
  },
  {
   "cell_type": "code",
   "execution_count": 3,
   "id": "eaeee015-bcd0-4608-a94b-3fd8a2a2f3ee",
   "metadata": {},
   "outputs": [],
   "source": [
    "def path(arr, s, t):\n",
    "    \"\"\"\n",
    "    :param arr: Array of predecessors\n",
    "    :param s: Source\n",
    "    :param t: Sink\n",
    "    :return: Shortest length path from source to sink\n",
    "    \"\"\"\n",
    "    source_vertex = s\n",
    "    temp = [t]\n",
    "    i = t\n",
    "    while arr[i] != -9999:\n",
    "        temp.append(arr[i])\n",
    "        i = arr[i]\n",
    "    return temp[::-1]"
   ]
  },
  {
   "cell_type": "code",
   "execution_count": 4,
   "id": "e8e1535c-5819-4b6d-ab7a-39a9114a21d6",
   "metadata": {},
   "outputs": [],
   "source": [
    "def find_bottleneck(G, arr):\n",
    "    \"\"\"\n",
    "    :param G: Input Graph\n",
    "    :param arr: Shortest path array\n",
    "    :return: capacity of bottleneck edge\n",
    "    \"\"\"\n",
    "    min_val = np.inf\n",
    "    for i in range(1, len(arr)):\n",
    "        start, end = arr[i - 1], arr[i]\n",
    "        if G[start][end] < min_val:\n",
    "            min_val = G[start][end]\n",
    "    return min_val"
   ]
  },
  {
   "cell_type": "code",
   "execution_count": 5,
   "id": "4718baf6-9a89-4aa7-bcb0-8b186e28fba6",
   "metadata": {},
   "outputs": [],
   "source": [
    "def augment(G1, short_path, bottleneck_edge):\n",
    "    \"\"\"\n",
    "    :param G1: Residual Graph Gf\n",
    "    :param short_path:\n",
    "    :param bottleneck_edge:\n",
    "    :return: Augmented Residual graph Gf'\n",
    "    \"\"\"\n",
    "    for i in range(1, len(short_path)):\n",
    "        start, end = short_path[i - 1], short_path[i]\n",
    "        G1[start][end] -= bottleneck_edge\n",
    "        G1[end][start] += bottleneck_edge\n",
    "    return G1"
   ]
  },
  {
   "cell_type": "code",
   "execution_count": 6,
   "id": "3f836307-649c-4ba2-82d8-d23638dc7ca0",
   "metadata": {},
   "outputs": [],
   "source": [
    "def scale_graph(G1, delta):\n",
    "    G1 = np.copy(G1)\n",
    "    for i in range(len(G1)):\n",
    "        for j in range(len(G1)):\n",
    "            if G1[i][j] < delta:\n",
    "                G1[i][j] = 0\n",
    "    return G1\n"
   ]
  },
  {
   "cell_type": "code",
   "execution_count": 7,
   "id": "19dfc152-b2bf-4a11-baad-c10f99d7548f",
   "metadata": {},
   "outputs": [],
   "source": [
    "def capacity_scale(G, s, t):\n",
    "    \"\"\"\n",
    "    :param G: Network Graph\n",
    "    :param s: Source\n",
    "    :param t: Sink\n",
    "    :return: Maximum flow through the network\n",
    "    \"\"\"\n",
    "    flow = 0\n",
    "    source, sink = s, t\n",
    "    delta = 2 ** len(bin(np.amax(G))[2:])\n",
    "    while delta >= 1:\n",
    "        G_delta = scale_graph(G, delta)\n",
    "        nodes, predecessor = breadth_first_order(csr_matrix(G_delta), 0, directed=True, return_predecessors=True)\n",
    "        shortest_path = path(predecessor, source, sink)\n",
    "        while len(shortest_path) > 1:\n",
    "            bottleneck_edge = find_bottleneck(G_delta, shortest_path)\n",
    "            flow += bottleneck_edge\n",
    "            G = augment(G, shortest_path, bottleneck_edge)\n",
    "            G_delta = scale_graph(G, delta)\n",
    "            nodes, predecessor = breadth_first_order(csr_matrix(G_delta), 0, directed=True, return_predecessors=True)\n",
    "            shortest_path = path(predecessor, source, sink)\n",
    "        delta /= 2\n",
    "    return flow"
   ]
  },
  {
   "cell_type": "code",
   "execution_count": 23,
   "id": "e2aa43e2-f5f4-4c0e-8008-a67c82a3a633",
   "metadata": {},
   "outputs": [
    {
     "data": {
      "text/plain": [
       "array([[0, 0, 0, 0, 0],\n",
       "       [0, 0, 0, 0, 0],\n",
       "       [0, 0, 0, 1, 0],\n",
       "       [0, 0, 1, 1, 1],\n",
       "       [0, 0, 0, 1, 0]], dtype=int32)"
      ]
     },
     "execution_count": 23,
     "metadata": {},
     "output_type": "execute_result"
    }
   ],
   "source": [
    "grid =  geraGrid(dim, coord)\n",
    "grid"
   ]
  },
  {
   "cell_type": "code",
   "execution_count": 22,
   "id": "1bb3eeb5-183a-48b4-a684-024e51ca8413",
   "metadata": {},
   "outputs": [
    {
     "name": "stdout",
     "output_type": "stream",
     "text": [
      "7\n"
     ]
    }
   ],
   "source": [
    "max_flow = capacity_scale(x, 0, 6)\n",
    "print(max_flow)"
   ]
  },
  {
   "cell_type": "code",
   "execution_count": 9,
   "id": "2956da9e-715f-43e7-9b16-0d4e68ef4b06",
   "metadata": {},
   "outputs": [
    {
     "data": {
      "text/plain": [
       "array([[ 0,  1,  2,  0,  0,  0,  0],\n",
       "       [ 2,  0,  0,  0,  0,  0,  0],\n",
       "       [ 1, 10,  0,  0,  0,  0,  0],\n",
       "       [ 4,  0,  0,  0,  0,  1,  0],\n",
       "       [ 0,  2,  1,  1,  0,  0,  0],\n",
       "       [ 0,  0,  0,  4,  1,  0,  0],\n",
       "       [ 0,  0,  0,  0,  2,  5,  0]])"
      ]
     },
     "execution_count": 9,
     "metadata": {},
     "output_type": "execute_result"
    }
   ],
   "source": [
    "x"
   ]
  },
  {
   "cell_type": "code",
   "execution_count": 24,
   "id": "30b96d68-9037-43e9-9ef3-ccab40f0c7eb",
   "metadata": {},
   "outputs": [
    {
     "name": "stdout",
     "output_type": "stream",
     "text": [
      "0\n"
     ]
    }
   ],
   "source": [
    "max_flow = capacity_scale(grid, 0, 4)\n",
    "print(max_flow)"
   ]
  },
  {
   "cell_type": "code",
   "execution_count": null,
   "id": "17109e48-44fd-4f63-878e-6b6551d9de78",
   "metadata": {},
   "outputs": [],
   "source": []
  }
 ],
 "metadata": {
  "kernelspec": {
   "display_name": "Python 3",
   "language": "python",
   "name": "python3"
  },
  "language_info": {
   "codemirror_mode": {
    "name": "ipython",
    "version": 3
   },
   "file_extension": ".py",
   "mimetype": "text/x-python",
   "name": "python",
   "nbconvert_exporter": "python",
   "pygments_lexer": "ipython3",
   "version": "3.8.10"
  }
 },
 "nbformat": 4,
 "nbformat_minor": 5
}
