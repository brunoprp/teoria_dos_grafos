{
 "cells": [
  {
   "cell_type": "code",
   "execution_count": 5,
   "id": "6fdbf946-1e11-4e53-b460-bfd79b6d31f7",
   "metadata": {},
   "outputs": [],
   "source": [
    "# Python program for implementation\n",
    "# of Ford Fulkerson algorithm\n",
    "from collections import defaultdict\n",
    "\n",
    "# This class represents a directed graph\n",
    "# using adjacency matrix representation\n",
    "class Graph:\n",
    "\n",
    "\tdef __init__(self, graph):\n",
    "\t\tself.graph = graph # residual graph\n",
    "\t\tself. ROW = len(graph)\n",
    "\t\t# self.COL = len(gr[0])\n",
    "\n",
    "\t'''Returns true if there is a path from source 's' to sink 't' in\n",
    "\tresidual graph. Also fills parent[] to store the path '''\n",
    "\n",
    "\tdef BFS(self, s, t, parent):\n",
    "\n",
    "\t\t# Mark all the vertices as not visited\n",
    "\t\tvisited = [False]*(self.ROW)\n",
    "\n",
    "\t\t# Create a queue for BFS\n",
    "\t\tqueue = []\n",
    "\n",
    "\t\t# Mark the source node as visited and enqueue it\n",
    "\t\tqueue.append(s)\n",
    "\t\tvisited[s] = True\n",
    "\n",
    "\t\t# Standard BFS Loop\n",
    "\t\twhile queue:\n",
    "\n",
    "\t\t\t# Dequeue a vertex from queue and print it\n",
    "\t\t\tu = queue.pop(0)\n",
    "\n",
    "\t\t\t# Get all adjacent vertices of the dequeued vertex u\n",
    "\t\t\t# If a adjacent has not been visited, then mark it\n",
    "\t\t\t# visited and enqueue it\n",
    "\t\t\tfor ind, val in enumerate(self.graph[u]):\n",
    "\t\t\t\tif visited[ind] == False and val > 0:\n",
    "\t\t\t\t\t# If we find a connection to the sink node,\n",
    "\t\t\t\t\t# then there is no point in BFS anymore\n",
    "\t\t\t\t\t# We just have to set its parent and can return true\n",
    "\t\t\t\t\tqueue.append(ind)\n",
    "\t\t\t\t\tvisited[ind] = True\n",
    "\t\t\t\t\tparent[ind] = u\n",
    "\t\t\t\t\tif ind == t:\n",
    "\t\t\t\t\t\treturn True\n",
    "\n",
    "\t\t# We didn't reach sink in BFS starting\n",
    "\t\t# from source, so return false\n",
    "\t\treturn False\n",
    "\t\t\t\n",
    "\t\n",
    "\t# Returns tne maximum flow from s to t in the given graph\n",
    "\tdef FordFulkerson(self, source, sink):\n",
    "\n",
    "\t\t# This array is filled by BFS and to store path\n",
    "\t\tparent = [-1]*(self.ROW)\n",
    "\n",
    "\t\tmax_flow = 0 # There is no flow initially\n",
    "\n",
    "\t\t# Augment the flow while there is path from source to sink\n",
    "\t\twhile self.BFS(source, sink, parent) :\n",
    "\n",
    "\t\t\t# Find minimum residual capacity of the edges along the\n",
    "\t\t\t# path filled by BFS. Or we can say find the maximum flow\n",
    "\t\t\t# through the path found.\n",
    "\t\t\tpath_flow = float(\"Inf\")\n",
    "\t\t\ts = sink\n",
    "\t\t\twhile(s != source):\n",
    "\t\t\t\tpath_flow = min (path_flow, self.graph[parent[s]][s])\n",
    "\t\t\t\ts = parent[s]\n",
    "\n",
    "\t\t\t# Add path flow to overall flow\n",
    "\t\t\tmax_flow += path_flow\n",
    "\n",
    "\t\t\t# update residual capacities of the edges and reverse edges\n",
    "\t\t\t# along the path\n",
    "\t\t\tv = sink\n",
    "\t\t\twhile(v != source):\n",
    "\t\t\t\tu = parent[v]\n",
    "\t\t\t\tself.graph[u][v] -= path_flow\n",
    "\t\t\t\tself.graph[v][u] += path_flow\n",
    "\t\t\t\tv = parent[v]\n",
    "\n",
    "\t\treturn max_flow, path_flow, self.graph\n",
    "\n"
   ]
  },
  {
   "cell_type": "code",
   "execution_count": 7,
   "id": "c23d1058-ec5b-4fe6-a307-bb30d3dc8dad",
   "metadata": {},
   "outputs": [],
   "source": [
    "# Create a graph given in the above diagram\n",
    "\n",
    "graph = [[0, 16, 13, 0, 0, 0],\n",
    "\t\t[0, 0, 10, 12, 0, 0],\n",
    "\t\t[0, 4, 0, 0, 14, 0],\n",
    "\t\t[0, 0, 9, 0, 0, 20],\n",
    "\t\t[0, 0, 0, 7, 0, 4],\n",
    "\t\t[0, 0, 0, 0, 0, 0]]\n",
    "\n",
    "g = Graph(graph)\n",
    "\n",
    "source = 0; sink = 5\n",
    "max_flow, path_flow, G = g.FordFulkerson(source, sink)\n",
    "#print (\"The maximum possible flow is %d \" % g.FordFulkerson(source, sink))\n",
    "\n",
    "# This code is contributed by Neelam Yadav"
   ]
  },
  {
   "cell_type": "code",
   "execution_count": 8,
   "id": "10bad5cd-f5f8-4d72-96f0-eb7df8018b10",
   "metadata": {},
   "outputs": [
    {
     "data": {
      "text/plain": [
       "23"
      ]
     },
     "execution_count": 8,
     "metadata": {},
     "output_type": "execute_result"
    }
   ],
   "source": [
    "max_flow"
   ]
  },
  {
   "cell_type": "code",
   "execution_count": 9,
   "id": "e35c7706-93ad-4327-b3b6-a2b18bfe2880",
   "metadata": {},
   "outputs": [
    {
     "data": {
      "text/plain": [
       "7"
      ]
     },
     "execution_count": 9,
     "metadata": {},
     "output_type": "execute_result"
    }
   ],
   "source": [
    "path_flow"
   ]
  },
  {
   "cell_type": "code",
   "execution_count": 10,
   "id": "32584a5b-762b-4519-a66c-e5832b375279",
   "metadata": {},
   "outputs": [
    {
     "data": {
      "text/plain": [
       "[[0, 4, 2, 0, 0, 0],\n",
       " [12, 0, 10, 0, 0, 0],\n",
       " [11, 4, 0, 0, 3, 0],\n",
       " [0, 12, 9, 0, 7, 1],\n",
       " [0, 0, 11, 0, 0, 0],\n",
       " [0, 0, 0, 19, 4, 0]]"
      ]
     },
     "execution_count": 10,
     "metadata": {},
     "output_type": "execute_result"
    }
   ],
   "source": [
    "G"
   ]
  },
  {
   "cell_type": "code",
   "execution_count": null,
   "id": "c7b3f562-0e61-454f-8fe0-bc9adb6153f6",
   "metadata": {},
   "outputs": [],
   "source": [
    "\n"
   ]
  }
 ],
 "metadata": {
  "kernelspec": {
   "display_name": "Python 3",
   "language": "python",
   "name": "python3"
  },
  "language_info": {
   "codemirror_mode": {
    "name": "ipython",
    "version": 3
   },
   "file_extension": ".py",
   "mimetype": "text/x-python",
   "name": "python",
   "nbconvert_exporter": "python",
   "pygments_lexer": "ipython3",
   "version": "3.8.10"
  }
 },
 "nbformat": 4,
 "nbformat_minor": 5
}
