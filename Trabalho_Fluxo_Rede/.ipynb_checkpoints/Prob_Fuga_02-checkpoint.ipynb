{
 "cells": [
  {
   "cell_type": "code",
   "execution_count": 1,
   "id": "7b9e9f2e-7f9c-48df-b094-c0fbde67b2c8",
   "metadata": {},
   "outputs": [],
   "source": [
    "import numpy as np"
   ]
  },
  {
   "cell_type": "code",
   "execution_count": 59,
   "id": "fbbba5d0-ef0f-4db4-9acd-1dcb06e4a24d",
   "metadata": {},
   "outputs": [],
   "source": [
    "# Exemplo de entrada\n",
    "dim = 5 # Dimenção do gride (dim x dim)\n",
    "coord = [[3, 2], [2, 3], [3, 3], [4, 3], [3, 4]]"
   ]
  },
  {
   "cell_type": "code",
   "execution_count": 80,
   "id": "cd13dfef-ac60-4ae2-bdda-1029ab94a934",
   "metadata": {},
   "outputs": [],
   "source": [
    "def geraGrid(dim, coord):\n",
    "    \"\"\"\n",
    "    1: dim = dimenção do gride  \n",
    "    2: coord = cordenadas dos pontos de partida\n",
    "    \"\"\"\n",
    "    coord = sorted(coord)\n",
    "    grid = np.zeros((dim, dim), dtype=np.int32)\n",
    "    # Marcar a cordenada dos pontos de partida com 1\n",
    "    for i in coord:\n",
    "        grid[i[0], i[1]] = 1\n",
    "    \n",
    "    return grid"
   ]
  },
  {
   "cell_type": "code",
   "execution_count": 82,
   "id": "5b7c93fc-de28-4b90-bf9a-49d10bd31246",
   "metadata": {},
   "outputs": [],
   "source": [
    "def veriFuga(grid, coord_part):\n",
    "    coord_part = sorted(coord_part)\n",
    "    bordas = []\n",
    "    list_adj = []\n",
    "    for coord in coord_part:\n",
    "        coord_adj = []\n",
    "        \n",
    "        # Verificar se a coordenada de escape ta na borda do gride\n",
    "        if coord[0] == 0 or coord[1] == 0 or coord[0] == grid.shape[0] - 1 or coord[1] == grid.shape[1] - 1:\n",
    "            bordas.append(coord)\n",
    "        \n",
    "        # Pegando os 4 adjacentes de cada ponto que não é borda\n",
    "        else:\n",
    "            coord_adj.append(coord)\n",
    "            coord_adj.append([coord[0]-1, coord[1]])\n",
    "            coord_adj.append([coord[0], coord[1]-1])\n",
    "            \n",
    "            coord_adj.append([coord[0]+1, coord[1]])\n",
    "            coord_adj.append([coord[0], coord[1]+1])\n",
    "            \n",
    "            list_adj.append(coord_adj)\n",
    "    \n",
    "    # Verificar se existe no minimo uma saida\n",
    "    for i in range(0, len(list_adj)):\n",
    "        adj = list_adj[i]\n",
    "        cont = 0\n",
    "        for j in range(1, 5):\n",
    "            if adj[j] in coord_part:\n",
    "                cont += 1\n",
    "        if cont == 4:\n",
    "            print(\"Ponto de partida sem saida --> \", adj[0])\n",
    "    \n",
    "    \n",
    "    \n",
    "    return list_adj"
   ]
  },
  {
   "cell_type": "code",
   "execution_count": 65,
   "id": "2c049013-bcc7-427c-b36d-3cf1c4622ab2",
   "metadata": {},
   "outputs": [
    {
     "data": {
      "text/plain": [
       "array([[0, 0, 0, 0, 0],\n",
       "       [0, 0, 0, 0, 0],\n",
       "       [0, 0, 0, 1, 0],\n",
       "       [0, 0, 1, 1, 1],\n",
       "       [0, 0, 0, 1, 0]], dtype=int32)"
      ]
     },
     "execution_count": 65,
     "metadata": {},
     "output_type": "execute_result"
    }
   ],
   "source": [
    "grid =  geraGrid(dim, coord)\n",
    "grid"
   ]
  },
  {
   "cell_type": "code",
   "execution_count": 32,
   "id": "bf298884-4976-42ce-ac8a-efb84b546ae6",
   "metadata": {},
   "outputs": [
    {
     "data": {
      "text/plain": [
       "(5, 5)"
      ]
     },
     "execution_count": 32,
     "metadata": {},
     "output_type": "execute_result"
    }
   ],
   "source": [
    "grid.shape"
   ]
  },
  {
   "cell_type": "code",
   "execution_count": 83,
   "id": "20e48faf-a983-4fc8-a7e7-428b4a83eae0",
   "metadata": {},
   "outputs": [
    {
     "name": "stdout",
     "output_type": "stream",
     "text": [
      "Ponto de partida sem saida -->  [3, 3]\n"
     ]
    }
   ],
   "source": [
    "bosdas = veriFuga(grid, coord)"
   ]
  },
  {
   "cell_type": "code",
   "execution_count": 84,
   "id": "8c1ccc86-d779-47ce-92c3-f25a02507b38",
   "metadata": {},
   "outputs": [
    {
     "data": {
      "text/plain": [
       "[[[2, 3], [1, 3], [2, 2], [3, 3], [2, 4]],\n",
       " [[3, 2], [2, 2], [3, 1], [4, 2], [3, 3]],\n",
       " [[3, 3], [2, 3], [3, 2], [4, 3], [3, 4]]]"
      ]
     },
     "execution_count": 84,
     "metadata": {},
     "output_type": "execute_result"
    }
   ],
   "source": [
    "bosdas"
   ]
  },
  {
   "cell_type": "code",
   "execution_count": 74,
   "id": "dc0db91a-e73b-40d2-810e-14b21c4ec846",
   "metadata": {},
   "outputs": [
    {
     "data": {
      "text/plain": [
       "[3, 2]"
      ]
     },
     "execution_count": 74,
     "metadata": {},
     "output_type": "execute_result"
    }
   ],
   "source": [
    "bosdas[0][0]"
   ]
  },
  {
   "cell_type": "code",
   "execution_count": 66,
   "id": "e32fa568-770b-4a99-91a3-4ae26ef79f20",
   "metadata": {},
   "outputs": [
    {
     "name": "stdout",
     "output_type": "stream",
     "text": [
      "Aqui\n"
     ]
    }
   ],
   "source": [
    "if [3, 2] in coord:\n",
    "    print(\"Aqui\")"
   ]
  },
  {
   "cell_type": "code",
   "execution_count": 79,
   "id": "07545b37-265a-4c56-a52c-5c46b6899e2f",
   "metadata": {},
   "outputs": [
    {
     "data": {
      "text/plain": [
       "[[2, 3], [3, 2], [3, 3], [3, 4], [4, 3]]"
      ]
     },
     "execution_count": 79,
     "metadata": {},
     "output_type": "execute_result"
    }
   ],
   "source": [
    "sorted(coord)"
   ]
  },
  {
   "cell_type": "code",
   "execution_count": null,
   "id": "68eac6a4-e89a-42f1-b06b-b78b6f45d1a9",
   "metadata": {},
   "outputs": [],
   "source": []
  }
 ],
 "metadata": {
  "kernelspec": {
   "display_name": "Python 3",
   "language": "python",
   "name": "python3"
  },
  "language_info": {
   "codemirror_mode": {
    "name": "ipython",
    "version": 3
   },
   "file_extension": ".py",
   "mimetype": "text/x-python",
   "name": "python",
   "nbconvert_exporter": "python",
   "pygments_lexer": "ipython3",
   "version": "3.8.10"
  }
 },
 "nbformat": 4,
 "nbformat_minor": 5
}
