{
 "cells": [
  {
   "cell_type": "code",
   "execution_count": null,
   "id": "ef850bb9-876f-4e55-b24d-0a9dab390588",
   "metadata": {},
   "outputs": [],
   "source": [
    "import networkx \n",
    "import matplotlib.pyplot as plt\n",
    "\n",
    "#from networkx.algorithms.flow import ford_fulkerson\n",
    "from networkx.algorithms.flow import edmonds_karp"
   ]
  },
  {
   "cell_type": "code",
   "execution_count": null,
   "id": "1209d99d-71cc-4538-9ef6-98dc41d02fcf",
   "metadata": {},
   "outputs": [],
   "source": [
    "grafoT = networkx.DiGraph()\n",
    "\n",
    "nx = 6\n",
    "ny = 6\n",
    "\n",
    "#adicionand os vértices S e T\n",
    "grafoT.add_node('S')\n",
    "grafoT.add_node('T')\n",
    "\n",
    "#criando os vértices do grid já duplicados e com as arestas Vin-Vout\n",
    "for i in range(1, nx + 1):\n",
    "    for j in range(1, ny + 1):\n",
    "        grafoT.add_node(str(i) + '-' + str(j) + '-IN')\n",
    "        grafoT.add_node(str(i) + '-' + str(j) + '-OUT')\n",
    "        grafoT.add_edge(str(i) + '-' + str(j) + '-IN', str(i) + '-' + str(j) + '-OUT', capacity=1.0)\n",
    "\n",
    "\n",
    "#arestas de origem S para pontos de fuga\n",
    "grafoT.add_edge('S', '2-2-IN', capacity=1.0)\n",
    "grafoT.add_edge('S', '2-4-IN', capacity=1.0)\n",
    "grafoT.add_edge('S', '2-6-IN', capacity=1.0)\n",
    "\n",
    "grafoT.add_edge('S', '3-1-IN', capacity=1.0)\n",
    "grafoT.add_edge('S', '3-2-IN', capacity=1.0)\n",
    "grafoT.add_edge('S', '3-4-IN', capacity=1.0)\n",
    "\n",
    "grafoT.add_edge('S', '3-6-IN', capacity=1.0)\n",
    "grafoT.add_edge('S', '4-2-IN', capacity=1.0)\n",
    "grafoT.add_edge('S', '4-4-IN', capacity=1.0)\n",
    "\n",
    "grafoT.add_edge('S', '4-6-IN', capacity=1.0)\n",
    "\n",
    "\n",
    "\n",
    "#Demais arestas do grid\n",
    "for i in range(1, nx + 1):\n",
    "    for j in range(1, ny + 1):\n",
    "        if( i > 1 and i <= nx and j > 1 and j <= ny):\n",
    "            grafoT.add_edge(str(i - 1) + '-' + str(j) + '-OUT', str(i) + '-' + str(j) + '-IN', capacity=1.0)\n",
    "            grafoT.add_edge(str(i) + '-' + str(j) + '-OUT', str(i - 1) + '-' + str(j) + '-IN', capacity=1.0)\n",
    "            grafoT.add_edge(str(i) + '-' + str(j - 1) + '-OUT', str(i) + '-' + str(j) + '-IN', capacity=1.0)\n",
    "            grafoT.add_edge(str(i) + '-' + str(j) + '-OUT', str(i) + '-' + str(j - 1) + '-IN', capacity=1.0)\n",
    "\n",
    "for i in range(1, nx):\n",
    "    grafoT.add_edge(str(1) + '-' + str(i) + '-OUT', str(1) + '-' + str(i + 1) + '-IN', capacity=1.0)\n",
    "    grafoT.add_edge(str(1) + '-' + str(i + 1) + '-OUT', str(1) + '-' + str(i) + '-IN', capacity=1.0)\n",
    "    grafoT.add_edge(str(i) + '-' + str(1) + '-OUT', str(i + 1) + '-' + str(1) + '-IN', capacity=1.0)\n",
    "    grafoT.add_edge(str(i + 1) + '-' + str(1) + '-OUT', str(i) + '-' + str(1) + '-IN', capacity=1.0)\n",
    "\n",
    "\n",
    "#arestas das bordas para T\n",
    "for i in range(1, nx + 1):\n",
    "    grafoT.add_edge(str(1) + '-' + str(i) + '-OUT', 'T', capacity=1.0)\n",
    "    grafoT.add_edge(str(i) + '-' + str(1) + '-OUT', 'T', capacity=1.0)\n",
    "    grafoT.add_edge(str(nx) + '-' + str(i) + '-OUT', 'T', capacity=1.0)\n",
    "    grafoT.add_edge(str(i) + '-' + str(nx) + '-OUT', 'T', capacity=1.0)\n",
    "\n",
    "print(\"Nós:\", grafoT.nodes)\n",
    "print(\"\")\n",
    "print(\"Arestas: \", grafoT.edges)\n",
    "\n",
    "pos = networkx.spring_layout(grafoT)\n",
    "networkx.draw_networkx_nodes(grafoT, pos)\n",
    "networkx.draw_networkx_labels(grafoT, pos)\n",
    "networkx.draw_networkx_edges(grafoT, pos, edge_color='r', arrows = True)\n",
    "plt.show()\n"
   ]
  },
  {
   "cell_type": "code",
   "execution_count": null,
   "id": "7510d26f-f11a-40a5-87a0-74ae33a06b06",
   "metadata": {},
   "outputs": [],
   "source": [
    "R = edmonds_karp(grafoT, \"S\", \"T\")\n",
    "flow_value, flow_dict = networkx.maximum_flow(grafoT, \"S\", \"T\")\n",
    "print(flow_value)\n",
    "print(flow_dict)"
   ]
  }
 ],
 "metadata": {
  "kernelspec": {
   "display_name": "Python 3",
   "language": "python",
   "name": "python3"
  },
  "language_info": {
   "codemirror_mode": {
    "name": "ipython",
    "version": 3
   },
   "file_extension": ".py",
   "mimetype": "text/x-python",
   "name": "python",
   "nbconvert_exporter": "python",
   "pygments_lexer": "ipython3",
   "version": "3.8.10"
  }
 },
 "nbformat": 4,
 "nbformat_minor": 5
}
