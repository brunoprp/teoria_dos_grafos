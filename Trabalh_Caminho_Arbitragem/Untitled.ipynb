{
 "cells": [
  {
   "cell_type": "markdown",
   "id": "96af60f5-c70e-451d-8e05-5b7d3af3f8bc",
   "metadata": {},
   "source": [
    "# Exercício “Arbitragem”\n",
    "\n",
    "* A técnica de Arbitragem consiste em utilizar diferenças entre taxas de câmbio de moedas para, mediante uma sequência de operações, obter lucro.\n",
    "* Por exemplo, se 1 dólar compra 49 rúpias indianas, 1 rúpia compra 2 yens japoneses e 1 yen japonês compra 0,0107 dólares, um trader pode iniciar com 1 dólar e comprar $49 \\times 2 \\times 0,0107 = 1,0486$ dólares, obtendo um ganho de 4,86%.\n",
    "\n",
    "* Suponha que são dadas $n$ denominações de moedas $c_1, c_2, ... , c_n$ e uma matriz $n \\times n R$ com as taxas de câmbio, de modo que uma unidade da moeda $c_i$ compra $R[i, j]$ unidades da moeda $c_j$\n",
    "\n",
    "    * Forneça um algoritmo eficiente para determinar “sim” ou “não”, se existe uma sequência $<c_{i_1}, c_{i_2}, ..., c_{i_k}>$ tal que $R[i_1, i_2] \\times R[i_2, i_3] \\ \\times ... \\times \\ R[i_{k-1}, i_k > 1$. Analise a complexidade do seu algoritmo.\n",
    "    * Forneça um algoritmo eficiente para retornar a sequência, caso ela exista. Analise a complexidade do seu algoritmo.\n",
    "    \n",
    "    \n",
    " ## Modelagem do problema \n",
    "  * Arbitragem como problema de encontrar o caminho mais curto"
   ]
  },
  {
   "cell_type": "code",
   "execution_count": null,
   "id": "83b5c325-9c5a-4ac3-a818-511eb77f1986",
   "metadata": {},
   "outputs": [],
   "source": [
    "matriz = [[1, 3, 2], []]"
   ]
  },
  {
   "cell_type": "code",
   "execution_count": null,
   "id": "9102203e-812f-4318-af68-98c1b2b45446",
   "metadata": {},
   "outputs": [],
   "source": []
  }
 ],
 "metadata": {
  "kernelspec": {
   "display_name": "Python 3",
   "language": "python",
   "name": "python3"
  },
  "language_info": {
   "codemirror_mode": {
    "name": "ipython",
    "version": 3
   },
   "file_extension": ".py",
   "mimetype": "text/x-python",
   "name": "python",
   "nbconvert_exporter": "python",
   "pygments_lexer": "ipython3",
   "version": "3.8.10"
  }
 },
 "nbformat": 4,
 "nbformat_minor": 5
}
