{
 "cells": [
  {
   "cell_type": "code",
   "execution_count": 1,
   "id": "insured-korea",
   "metadata": {},
   "outputs": [],
   "source": [
    "#BFS - Algoritmo para Busca em Largura"
   ]
  },
  {
   "cell_type": "code",
   "execution_count": 8,
   "id": "joined-prototype",
   "metadata": {},
   "outputs": [],
   "source": [
    "import networkx as nx"
   ]
  },
  {
   "cell_type": "code",
   "execution_count": 2,
   "id": "generic-survey",
   "metadata": {},
   "outputs": [],
   "source": [
    "vertices = [0, 1, 2, 3, 4, 5, 6, 7, 8, 9, 10, 11, 12, 13, 14, \n",
    "            15, 16, 17, 18, 19, 20, 21, 22, 23, 24, 25, 26, 27, 28, 29]\n",
    "\n",
    "arestas = [(0, 2), (0, 4), (0, 9), (0, 11), (0, 15), (0, 21), \n",
    "           (1, 4), (1, 5), (1, 9), (1, 11), (1, 16), (1, 20), \n",
    "           (1, 22), (1, 24), (2, 4), (2, 5), (2, 6), (2, 8), \n",
    "           (2, 11), (2, 17), (2, 18), (2, 23), (2, 25), (2, 27), \n",
    "           (3, 5), (3, 6), (3, 9), (3, 14), (3, 15), (3, 18), \n",
    "           (3, 19), (3, 22), (3, 27), (4, 8), (4, 9), (4, 11), \n",
    "           (4, 18), (4, 19), (5, 6), (5, 8), (5, 9), (5, 12), \n",
    "           (5, 13), (5, 19), (5, 24), (5, 27), (6, 8), (6, 16), \n",
    "           (6, 17), (6, 18), (6, 19), (6, 20), (6, 23), (6, 24), \n",
    "           (6, 28), (7, 29), (8, 11), (8, 12), (8, 15), (8, 20), \n",
    "           (8, 22), (8, 23), (8, 24), (8, 28), (9, 17), (9, 22), \n",
    "           (11, 17), (11, 25), (11, 27), (12, 16), (12, 22), \n",
    "           (12, 23), (12, 26), (12, 27), (12, 28), (13, 15), \n",
    "           (13, 19), (13, 21), (13, 24), (14, 16), (14, 19), \n",
    "           (14, 20), (14, 21), (14, 22), (14, 24), (15, 18), \n",
    "           (15, 20), (15, 22), (15, 24), (15, 27), (15, 28), \n",
    "           (16, 17), (16, 23), (16, 27), (16, 28), (17, 18), \n",
    "           (17, 19), (17, 20), (17, 23), (18, 20), (18, 24), \n",
    "           (18, 26), (18, 27), (19, 20), (19, 23), (19, 25), \n",
    "           (20, 27), (20, 28), (21, 23), (21, 25), (21, 26), \n",
    "           (22, 24), (22, 25), (22, 27), (23, 28), (25, 26), \n",
    "           (25, 28), (26, 27)]"
   ]
  },
  {
   "cell_type": "code",
   "execution_count": 4,
   "id": "tough-appearance",
   "metadata": {},
   "outputs": [],
   "source": [
    "# Função para criar a lista de adijacentes do grafo/drigafo\n",
    "def listAdj(vertices, arestas):\n",
    "    list_adj = []\n",
    "\n",
    "    for i in range(0, len(vertices)):\n",
    "        \n",
    "        vert = vertices[i]\n",
    "        lis_adj_vert = []\n",
    "        \n",
    "        for j in range(0, len(arestas)):\n",
    "            \n",
    "            arest = arestas[j]\n",
    "            \n",
    "            if arest[0] == vert:\n",
    "                \n",
    "                lis_adj_vert.append(arest[1])\n",
    "        \n",
    "        list_adj.append(lis_adj_vert)\n",
    "        \n",
    "    return list_adj "
   ]
  },
  {
   "cell_type": "code",
   "execution_count": 5,
   "id": "scheduled-glossary",
   "metadata": {},
   "outputs": [],
   "source": [
    "def BFS(s, vertice, arestas): \n",
    "     \n",
    "    # Criando a lista de adjacentes\n",
    "    lista_adj = listAdj(vertices, arestas)   \n",
    "\n",
    "    #marca todos os vértices como não visitados.\n",
    "    visited = [False] * (len(vertice)) \n",
    "      \n",
    "    #cria uma fila vazia para o BFS \n",
    "    queue = [] \n",
    " \n",
    "    #pega o nó de origem, marca como visitado e insere ele na fila\n",
    "    queue.append(s) \n",
    "    visited[s] = True\n",
    " \n",
    "    # Lista da rota\n",
    "    list_rota = []\n",
    "    \n",
    "    #enquanto a fila não for vazia\n",
    "    while queue: \n",
    "          #retira o último vértice inserido na fila e imprime\n",
    "        s = queue.pop(0) \n",
    "        #print(s, \" \")\n",
    "        list_rota.append(s)\n",
    "        \n",
    "        #Obtenha todos os vértices adjacentes dos vértices desenfileirados. Se um adjacente não foi visitado, marque-o como visitado e coloque-o na fila\n",
    "        for i in lista_adj[s]: \n",
    "          #print(visited[i])\n",
    "          if visited[i] == False: \n",
    "              queue.append(i) \n",
    "              visited[i] = True\n",
    "    return list_rota"
   ]
  },
  {
   "cell_type": "code",
   "execution_count": 25,
   "id": "derived-jacket",
   "metadata": {},
   "outputs": [],
   "source": [
    "lista_rota = BFS(0, vertices, arestas)"
   ]
  },
  {
   "cell_type": "code",
   "execution_count": 26,
   "id": "developing-oklahoma",
   "metadata": {},
   "outputs": [
    {
     "name": "stdout",
     "output_type": "stream",
     "text": [
      "[0, 2, 4, 9, 11, 15, 21, 5, 6, 8, 17, 18, 23, 25, 27, 19, 22, 20, 24, 28, 26, 12, 13, 16]\n"
     ]
    }
   ],
   "source": [
    "print(lista_rota)"
   ]
  },
  {
   "cell_type": "code",
   "execution_count": 21,
   "id": "labeled-characteristic",
   "metadata": {},
   "outputs": [
    {
     "data": {
      "text/plain": [
       "24"
      ]
     },
     "execution_count": 21,
     "metadata": {},
     "output_type": "execute_result"
    }
   ],
   "source": [
    "len(lista_rota)"
   ]
  },
  {
   "cell_type": "markdown",
   "id": "informed-mayor",
   "metadata": {},
   "source": [
    "## Compontes de um grafico "
   ]
  },
  {
   "cell_type": "code",
   "execution_count": 13,
   "id": "cardiac-advertiser",
   "metadata": {},
   "outputs": [],
   "source": [
    "G = nx.Graph()\n",
    "G.add_nodes_from(vertices)\n",
    "G.add_edges_from(arestas)"
   ]
  },
  {
   "cell_type": "code",
   "execution_count": 21,
   "id": "planned-small",
   "metadata": {},
   "outputs": [
    {
     "data": {
      "text/plain": [
       "False"
      ]
     },
     "execution_count": 21,
     "metadata": {},
     "output_type": "execute_result"
    }
   ],
   "source": [
    "# Vericar se o grafico é totalemente conectado\n",
    "nx.is_connected(G)"
   ]
  },
  {
   "cell_type": "code",
   "execution_count": 14,
   "id": "agreed-repository",
   "metadata": {},
   "outputs": [
    {
     "name": "stdout",
     "output_type": "stream",
     "text": [
      "[{0, 1, 2, 3, 4, 5, 6, 8, 9, 11, 12, 13, 14, 15, 16, 17, 18, 19, 20, 21, 22, 23, 24, 25, 26, 27, 28}, {29, 7}, {10}]\n",
      "3\n"
     ]
    }
   ],
   "source": [
    "# Componeste do grafico\n",
    "print(list(nx.connected_components(G)))\n",
    "print(nx.number_connected_components(G))"
   ]
  },
  {
   "cell_type": "markdown",
   "id": "copyrighted-manor",
   "metadata": {},
   "source": [
    "## Detecção de Ciclos"
   ]
  },
  {
   "cell_type": "code",
   "execution_count": 15,
   "id": "adult-russian",
   "metadata": {},
   "outputs": [],
   "source": [
    "v = [0, 1, 2, 3, 4, 5, 6, 7, 8, 9, 10, 11, 12, 13, 14, 15, 16, \n",
    "     17, 18, 19, 20, 21, 22, 23, 24, 25, 26, 27, 28, 29]\n",
    "\n",
    "A = [(0, 9), (1, 5), (1, 14), (1, 21), (2, 15), (2, 24), \n",
    "     (3, 6), (4, 11), (4, 16), (5, 14), (6, 29), (7, 10), \n",
    "     (8, 25), (9, 19), (10, 17), (10, 29), (11, 28), (12, 20), \n",
    "     (12, 27), (13, 18), (16, 20), (16, 22), (17, 23), (18, 21), \n",
    "     (19, 21), (23, 28), (24, 25), (25, 28), (26, 29)] "
   ]
  },
  {
   "cell_type": "code",
   "execution_count": 45,
   "id": "interracial-console",
   "metadata": {},
   "outputs": [],
   "source": [
    "G2 = nx.Graph()\n",
    "G2.add_nodes_from(v)\n",
    "G2.add_edges_from(A)"
   ]
  },
  {
   "cell_type": "code",
   "execution_count": 29,
   "id": "amber-cruise",
   "metadata": {},
   "outputs": [
    {
     "name": "stdout",
     "output_type": "stream",
     "text": [
      "[(1, 5, 'forward'), (5, 14, 'forward'), (14, 1, 'forward')]\n",
      "[[5, 14, 1]]\n"
     ]
    }
   ],
   "source": [
    "# Detecção de siclos \n",
    "print(list(nx.find_cycle(G2, orientation=\"original\")))\n",
    "print(list(nx.cycle_basis(G2)))\n",
    "\n"
   ]
  },
  {
   "cell_type": "markdown",
   "id": "subtle-boulder",
   "metadata": {},
   "source": [
    "## Ordenação Topológica"
   ]
  },
  {
   "cell_type": "code",
   "execution_count": 66,
   "id": "selective-village",
   "metadata": {},
   "outputs": [],
   "source": [
    "v2 = [0, 1, 2, 3, 4, 5, 6, 7, 8, 9, 10, 11, 12, 13, 14, 15, 16, 17, 18, 19]\n",
    "\n",
    "A2 = [(0, 2), (0, 4), (0, 5), (0, 6), (0, 7), (0, 8), (0, 9), (0, 10), (0, 11), \n",
    "      (0, 12), (0, 13), (0, 14), (0, 15), (0, 16), (0, 17), (0, 18), (0, 19), (1, 0), (1, 2), (1, 4), (1, 5), (1, 6), (1, 7), (1, 9), (1, 10), (1, 11), (1, 13), (1, 14), (1, 15), (1, 16), (1, 17), (1, 18), (1, 19), (2, 5), (2, 8), (2, 9), (2, 10), (2, 11), (2, 12), (2, 13), (2, 15), (3, 0), (3, 1), (3, 4), (3, 5), (3, 6), (3, 7), (3, 8), (3, 9), (3, 10), (3, 11), (3, 12), (3, 13), (3, 14), (3, 15), (3, 17), (4, 2), (4, 5), (4, 8), (4, 9), (4, 10), (4, 11), (4, 12), (4, 13), (4, 14), (4, 15), (4, 16), (4, 17), (5, 8), (5, 9), (5, 11), (5, 13), (5, 15), (6, 2), (6, 4), (6, 5), (6, 7), (6, 8), (6, 9), (6, 10), (6, 11), (6, 12), (6, 13), (6, 14), (6, 15), (6, 16), (6, 17), (7, 2), (7, 4), (7, 5), (7, 8), (7, 9), (7, 10), (7, 11), (7, 12), (7, 13), (7, 14), (7, 15), (7, 16), (7, 17), (8, 11), (9, 8), (9, 11), (9, 15), (10, 8), (10, 9), (10, 11), (10, 12), (10, 13), (12, 5), (12, 8), (12, 9), (12, 13), (12, 15), (13, 8), (13, 9), (13, 11), (13, 15), (14, 2), (14, 5), (14, 8), (14, 9), (14, 10), (14, 11), (14, 12), (14, 13), (14, 15), (14, 16), (14, 17), (15, 8), (15, 11), (16, 2), (16, 5), (16, 8), (16, 9), (16, 10), (16, 11), (16, 12), (16, 13), (16, 15), (17, 2), (17, 5), (17, 8), (17, 9), (17, 10), (17, 11), (17, 12), (17, 13), (17, 15), (17, 16), (18, 2), (18, 4), (18, 6), (18, 7), (18, 8), (18, 9), (18, 10), (18, 11), (18, 12), (18, 13), (18, 14), (18, 15), (18, 16), (18, 17), (18, 19), (19, 6), (19, 8), (19, 9), (19, 11), (19, 12), (19, 13), (19, 14), (19, 15), (19, 16), (19, 17)]\n"
   ]
  },
  {
   "cell_type": "code",
   "execution_count": null,
   "id": "responsible-kansas",
   "metadata": {},
   "outputs": [],
   "source": []
  },
  {
   "cell_type": "code",
   "execution_count": 67,
   "id": "strange-tactics",
   "metadata": {},
   "outputs": [
    {
     "name": "stdout",
     "output_type": "stream",
     "text": [
      "[3, 1, 0, 18, 19, 6, 7, 4, 14, 17, 16, 2, 10, 12, 5, 13, 9, 15, 8, 11]\n"
     ]
    }
   ],
   "source": [
    "# Ordenação topologica digrafo\n",
    "DG = nx.DiGraph(A2)\n",
    "print(list(list(nx.topological_sort(DG))))"
   ]
  },
  {
   "cell_type": "code",
   "execution_count": 75,
   "id": "least-boxing",
   "metadata": {},
   "outputs": [
    {
     "name": "stdout",
     "output_type": "stream",
     "text": [
      "0 2 1\n",
      "1 8 2\n",
      "Maior:  2\n"
     ]
    }
   ],
   "source": [
    "#X e Y contém os vértices da primeira componente de gA\n",
    "\n",
    "X = [0, 1, 2, 3, 4, 5, 6, 7, 8, 9, 10, 11, 12, 13, 14, 15, 16, 17, 18, 19]\n",
    "Y = [0, 1, 2, 3, 4, 5, 6, 7, 8, 9, 10, 11, 12, 13, 14, 15, 16, 17, 18, 19]\n",
    "\n",
    "maior = 0\n",
    "\n",
    "for x in X:\n",
    "  for y in Y:\n",
    "\n",
    "    try:\n",
    "      caminho = nx.shortest_path_length(DG, x, y)\n",
    "\n",
    "      if (caminho > maior):\n",
    "            \n",
    "             maior = caminho\n",
    "\n",
    "             print(x, y , caminho)\n",
    "\n",
    "    except:\n",
    "      #print('Não há caminho entre ', x, ' e ', y)\n",
    "      pass\n",
    "    \n",
    "\n",
    "print('Maior: ', maior)"
   ]
  },
  {
   "cell_type": "code",
   "execution_count": 68,
   "id": "different-education",
   "metadata": {},
   "outputs": [
    {
     "name": "stdout",
     "output_type": "stream",
     "text": [
      "[(0, 2), (0, 4), (0, 5), (0, 6), (0, 7), (0, 8), (0, 9), (0, 10), (0, 11), (0, 12), (0, 13), (0, 14), (0, 15), (0, 16), (0, 17), (0, 18), (0, 19)]\n"
     ]
    }
   ],
   "source": [
    "print(list(nx.bfs_edges(DG,0)))"
   ]
  },
  {
   "cell_type": "code",
   "execution_count": null,
   "id": "irish-orleans",
   "metadata": {},
   "outputs": [],
   "source": []
  }
 ],
 "metadata": {
  "kernelspec": {
   "display_name": "Python 3",
   "language": "python",
   "name": "python3"
  },
  "language_info": {
   "codemirror_mode": {
    "name": "ipython",
    "version": 3
   },
   "file_extension": ".py",
   "mimetype": "text/x-python",
   "name": "python",
   "nbconvert_exporter": "python",
   "pygments_lexer": "ipython3",
   "version": "3.8.8"
  }
 },
 "nbformat": 4,
 "nbformat_minor": 5
}
