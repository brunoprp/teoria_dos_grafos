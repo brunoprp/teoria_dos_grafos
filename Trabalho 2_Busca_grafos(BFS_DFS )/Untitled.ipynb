{
 "cells": [
  {
   "cell_type": "code",
   "execution_count": 2,
   "id": "portuguese-charm",
   "metadata": {},
   "outputs": [],
   "source": [
    "vertices = [0, 1, 2, 3, 4, 5, 6, 7, 8, 9, 10, 11, 12, 13, 14, \n",
    "            15, 16, 17, 18, 19, 20, 21, 22, 23, 24, 25, 26, 27, 28, 29]\n",
    "\n",
    "arestas = [(0, 2), (0, 4), (0, 9), (0, 11), (0, 15), (0, 21), \n",
    "           (1, 4), (1, 5), (1, 9), (1, 11), (1, 16), (1, 20), \n",
    "           (1, 22), (1, 24), (2, 4), (2, 5), (2, 6), (2, 8), \n",
    "           (2, 11), (2, 17), (2, 18), (2, 23), (2, 25), (2, 27), \n",
    "           (3, 5), (3, 6), (3, 9), (3, 14), (3, 15), (3, 18), \n",
    "           (3, 19), (3, 22), (3, 27), (4, 8), (4, 9), (4, 11), \n",
    "           (4, 18), (4, 19), (5, 6), (5, 8), (5, 9), (5, 12), \n",
    "           (5, 13), (5, 19), (5, 24), (5, 27), (6, 8), (6, 16), \n",
    "           (6, 17), (6, 18), (6, 19), (6, 20), (6, 23), (6, 24), \n",
    "           (6, 28), (7, 29), (8, 11), (8, 12), (8, 15), (8, 20), \n",
    "           (8, 22), (8, 23), (8, 24), (8, 28), (9, 17), (9, 22), \n",
    "           (11, 17), (11, 25), (11, 27), (12, 16), (12, 22), \n",
    "           (12, 23), (12, 26), (12, 27), (12, 28), (13, 15), \n",
    "           (13, 19), (13, 21), (13, 24), (14, 16), (14, 19), \n",
    "           (14, 20), (14, 21), (14, 22), (14, 24), (15, 18), \n",
    "           (15, 20), (15, 22), (15, 24), (15, 27), (15, 28), \n",
    "           (16, 17), (16, 23), (16, 27), (16, 28), (17, 18), \n",
    "           (17, 19), (17, 20), (17, 23), (18, 20), (18, 24), \n",
    "           (18, 26), (18, 27), (19, 20), (19, 23), (19, 25), \n",
    "           (20, 27), (20, 28), (21, 23), (21, 25), (21, 26), \n",
    "           (22, 24), (22, 25), (22, 27), (23, 28), (25, 26), \n",
    "           (25, 28), (26, 27)]"
   ]
  },
  {
   "cell_type": "code",
   "execution_count": 3,
   "id": "superior-burning",
   "metadata": {},
   "outputs": [],
   "source": [
    "# Função para criar a lista de adijacentes do grafo/drigafo\n",
    "def listAdj(vertices, arestas):\n",
    "    list_adj = []\n",
    "\n",
    "    for i in range(0, len(vertices)):\n",
    "        \n",
    "        vert = vertices[i]\n",
    "        lis_adj_vert = []\n",
    "        \n",
    "        for j in range(0, len(arestas)):\n",
    "            \n",
    "            arest = arestas[j]\n",
    "            \n",
    "            if arest[0] == vert:\n",
    "                \n",
    "                lis_adj_vert.append(arest[1])\n",
    "        \n",
    "        list_adj.append(lis_adj_vert)\n",
    "        \n",
    "    return list_adj "
   ]
  },
  {
   "cell_type": "code",
   "execution_count": null,
   "id": "ranging-afternoon",
   "metadata": {},
   "outputs": [],
   "source": []
  }
 ],
 "metadata": {
  "kernelspec": {
   "display_name": "Python 3",
   "language": "python",
   "name": "python3"
  },
  "language_info": {
   "codemirror_mode": {
    "name": "ipython",
    "version": 3
   },
   "file_extension": ".py",
   "mimetype": "text/x-python",
   "name": "python",
   "nbconvert_exporter": "python",
   "pygments_lexer": "ipython3",
   "version": "3.8.8"
  }
 },
 "nbformat": 4,
 "nbformat_minor": 5
}
