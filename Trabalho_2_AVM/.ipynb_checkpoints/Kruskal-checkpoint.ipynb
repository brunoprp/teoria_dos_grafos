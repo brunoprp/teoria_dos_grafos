{
 "cells": [
  {
   "cell_type": "markdown",
   "id": "tested-tulsa",
   "metadata": {},
   "source": [
    "# Árvore geradora mínima com o algortimo de Kruskall\n",
    "   * Domingos Bruno Sousa Santos"
   ]
  },
  {
   "cell_type": "code",
   "execution_count": 10,
   "id": "incorrect-foundation",
   "metadata": {},
   "outputs": [],
   "source": [
    "vertices_g = [0, 1, 2, 3, 4, 5, 6, 7, 8, 9, 10, 11, 12, 13, 14, 15, 16, \n",
    "              17, 18, 19, 20, 21, 22, 23, 24, 25, 26, 27, 28, 29]\n",
    "\n",
    "aresta_g = [(0, 3, 79), (0, 5, 246), (0, 6, 129), (0, 7, 204), (0, 8, 295), \n",
    "            (0, 9, 75), (0, 12, 117), (0, 13, 212), (0, 14, 105), (0, 16, 88), \n",
    "            (0, 22, 108), (0, 23, 273), (0, 25, 24), (0, 29, 251), (1, 2, 235),\n",
    "            (1, 3, 123), (1, 4, 267), (1, 6, 29), (1, 7, 53), (1, 9, 274), \n",
    "            (1, 13, 238), (1, 14, 162), (1, 18, 13), (1, 19, 109), (1, 20, 254), \n",
    "            (1, 21, 141), (1, 22, 116), (1, 24, 45), (1, 25, 151), (1, 26, 190), \n",
    "            (1, 27, 257), (1, 28, 200), (2, 4, 215), (2, 5, 27), (2, 6, 262),\n",
    "            (2, 9, 154), (2, 12, 90), (2, 16, 68), (2, 17, 283), (2, 18, 14), \n",
    "            (2, 19, 137), (2, 20, 66), (2, 21, 101), (2, 23, 142), (2, 24, 231),\n",
    "            (2, 26, 158), (3, 5, 194), (3, 7, 11), (3, 9, 42), (3, 12, 175),\n",
    "            (3, 18, 199), (3, 19, 131), (3, 24, 81), (3, 25, 10), (3, 28, 260), \n",
    "            (3, 29, 242), (4, 5, 188), (4, 6, 22), (4, 7, 271), (4, 8, 183), \n",
    "            (4, 9, 67), (4, 10, 216), (4, 12, 21), (4, 13, 159), (4, 17, 139), \n",
    "            (4, 19, 15), (4, 21, 240), (4, 23, 99), (4, 25, 126), (4, 26, 211), \n",
    "            (4, 27, 298), (5, 8, 25), (5, 9, 174), (5, 10, 60), (5, 11, 47), \n",
    "            (5, 12, 259), (5, 15, 249), (5, 17, 282), (5, 18, 130), (5, 25, 209), \n",
    "            (5, 28, 203), (5, 29, 143), (6, 7, 248), (6, 8, 54), (6, 11, 74), \n",
    "            (6, 14, 124), (6, 19, 180), (6, 21, 286), (6, 22, 44), (6, 23, 19), \n",
    "            (6, 25, 56), (6, 26, 41), (6, 28, 57), (7, 9, 17), (7, 10, 43), \n",
    "            (7, 12, 265), (7, 15, 234), (7, 17, 89), (7, 19, 118), (7, 20, 83), \n",
    "            (7, 21, 146), (7, 22, 236), (7, 29, 230), (8, 15, 110), (8, 16, 102), \n",
    "            (8, 17, 208), (8, 18, 48), (8, 21, 92), (8, 22, 247), (8, 23, 253), \n",
    "            (8, 27, 217), (8, 29, 144), (9, 10, 284), (9, 11, 34), (9, 15, 119), \n",
    "            (9, 17, 36), (9, 18, 276), (9, 21, 184), (9, 23, 38), (9, 24, 55), \n",
    "            (9, 25, 201), (9, 28, 290), (9, 29, 33), (10, 13, 219), (10, 14, 111), \n",
    "            (10, 15, 165), (10, 19, 177), (10, 20, 256), (10, 23, 64), (10, 27, 115),\n",
    "            (10, 28, 288), (10, 29, 12), (11, 14, 289), (11, 15, 153), (11, 17, 250), \n",
    "            (11, 19, 252), (11, 20, 155), (11, 21, 145), (11, 23, 37), (11, 24, 18),\n",
    "            (11, 27, 106), (11, 28, 156), (12, 15, 164), (12, 16, 179), (12, 17, 113), \n",
    "            (12, 19, 182), (12, 21, 30), (12, 24, 127), (12, 26, 293), (12, 27, 85), \n",
    "            (13, 15, 23), (13, 18, 32), (13, 19, 148), (14, 16, 187), (14, 19, 167), \n",
    "            (14, 23, 71), (14, 25, 65), (14, 27, 191), (14, 28, 206), (14, 29, 128), \n",
    "            (15, 20, 239), (15, 26, 120), (15, 27, 51), (15, 28, 280), (15, 29, 186), \n",
    "            (16, 17, 62), (16, 18, 224), (16, 19, 279), (16, 20, 133), (16, 21, 147), \n",
    "            (16, 22, 61), (16, 25, 72), (16, 27, 233), (16, 28, 181), (16, 29, 84),\n",
    "            (17, 18, 82), (17, 22, 243), (17, 24, 132), (17, 25, 76), (17, 26, 171), \n",
    "            (17, 27, 58), (17, 29, 77), (18, 19, 98), (18, 21, 100), (18, 25, 28), \n",
    "            (18, 27, 241), (18, 28, 152), (18, 29, 222), (19, 21, 40), (19, 23, 272),\n",
    "            (19, 25, 112), (19, 26, 296), (19, 27, 281), (19, 29, 213), (20, 21, 228),\n",
    "            (20, 23, 198), (20, 24, 93), (20, 25, 63), (20, 26, 140), (20, 27, 185), \n",
    "            (20, 28, 285), (20, 29, 26), (21, 24, 172), (22, 23, 80), (22, 24, 97), \n",
    "            (22, 26, 232), (22, 27, 170), (22, 28, 223), (22, 29, 221), (23, 24, 227),\n",
    "            (23, 25, 193), (23, 27, 294), (23, 29, 220), (24, 25, 161), (24, 26, 160), \n",
    "            (25, 26, 150), (27, 28, 291), (27, 29, 96), (28, 29, 20)]\n"
   ]
  },
  {
   "cell_type": "code",
   "execution_count": 2,
   "id": "quarterly-literacy",
   "metadata": {},
   "outputs": [
    {
     "data": {
      "text/plain": [
       "30"
      ]
     },
     "execution_count": 2,
     "metadata": {},
     "output_type": "execute_result"
    }
   ],
   "source": [
    "len(vertices_g)"
   ]
  },
  {
   "cell_type": "markdown",
   "id": "institutional-redhead",
   "metadata": {},
   "source": [
    "## Árvore geradora mínima com o algortimo de Kruskall\n",
    "  * Criar um(a) lista/grupo/arvore para cada vertice\n",
    "  * Ordenar as arestas de acordo com seus pesos\n",
    "  * Percorrer todas as aresta ordendas do grafo $G$, verificar se os vertes da arestas são do mesmo grupo, caso não seja juntar os vertices no mesmo grupo e salvar as arestas da AGM."
   ]
  },
  {
   "cell_type": "code",
   "execution_count": 11,
   "id": "raising-listening",
   "metadata": {},
   "outputs": [],
   "source": [
    "make_set = []\n",
    "for i in range(0, len(vertices_g)):\n",
    "    make_set.append([vertices_g[i]])"
   ]
  },
  {
   "cell_type": "code",
   "execution_count": 12,
   "id": "australian-peripheral",
   "metadata": {},
   "outputs": [],
   "source": [
    "# Algortimo de ordenação Bubble Sorte\n",
    "# Usado para ordenar as arestas de acordo com os pesos\n",
    "def bubble_sort(lista):\n",
    "    elementos = len(lista)-1\n",
    "    ordenado = False\n",
    "    while not ordenado:\n",
    "        ordenado = True\n",
    "        for i in range(0, elementos):\n",
    "            if lista[i][2] > lista[i+1][2]:\n",
    "                lista[i], lista[i+1] = lista[i+1],lista[i]\n",
    "                ordenado = False        \n",
    "    return lista"
   ]
  },
  {
   "cell_type": "code",
   "execution_count": 13,
   "id": "handmade-convertible",
   "metadata": {},
   "outputs": [
    {
     "data": {
      "text/plain": [
       "[(3, 25, 10),\n",
       " (3, 7, 11),\n",
       " (10, 29, 12),\n",
       " (1, 18, 13),\n",
       " (2, 18, 14),\n",
       " (4, 19, 15),\n",
       " (7, 9, 17),\n",
       " (11, 24, 18),\n",
       " (6, 23, 19),\n",
       " (28, 29, 20)]"
      ]
     },
     "execution_count": 13,
     "metadata": {},
     "output_type": "execute_result"
    }
   ],
   "source": [
    "# Ordenando as arestas de acordo com os pesos das mesmas\n",
    "list_aresta_ordena = bubble_sort(aresta_g)\n",
    "list_aresta_ordena[:10] # Imprimindo as 10 primeiras arestas ordenadas"
   ]
  },
  {
   "cell_type": "code",
   "execution_count": 14,
   "id": "asian-method",
   "metadata": {},
   "outputs": [],
   "source": [
    "# Função para mesclar/juntar dois conjuntos de vertices\n",
    "def mergeList(list_1, list_2):\n",
    "\n",
    "    for i in list_2:\n",
    "        \n",
    "        if i not in list_1:\n",
    "            \n",
    "            list_1.append(i)\n",
    "            \n",
    "    return list_1"
   ]
  },
  {
   "cell_type": "code",
   "execution_count": 15,
   "id": "broad-tourist",
   "metadata": {},
   "outputs": [],
   "source": [
    "lista_arestas_AGM = [] # Lista de AGM\n",
    "custo_AGM = [] # Custo da AGM\n",
    "for i in range(0, len(list_aresta_ordena)):\n",
    "    u = list_aresta_ordena[i][0]\n",
    "    v = list_aresta_ordena[i][1]\n",
    "    custo = list_aresta_ordena[i][2]\n",
    "    \n",
    "    # Percorrendo os individuais de conjuntos de vertices\n",
    "    for j in range(0, len(make_set)):    \n",
    "        # Encontrando o conjunto de u\n",
    "        \n",
    "        if u in make_set[j]:\n",
    "            \n",
    "            # Verificando se v não esta no mesmo conjunto de u\n",
    "            if v not in make_set[j]:\n",
    "                # Caso não esteja no mesmo grupo\n",
    "                # Encontrando o conjunto de v\n",
    "                for l in range(0, len(make_set)):\n",
    "                    \n",
    "                    if v in make_set[l]:\n",
    "                        # Quardando o conjunto v\n",
    "                        conjunto_v = make_set[l]\n",
    "                        break \n",
    "                        \n",
    "                #Caso não esteja, juntando v no conjunto de u\n",
    "                make_set[j] = mergeList(make_set[j], conjunto_v)\n",
    "                    \n",
    "                # Removendo o conjunto v da lista depois de unido com o u\n",
    "                make_set.remove(conjunto_v)\n",
    "                # Adicionando uma lista vazia para manter o tamnho incial da lisata make_set\n",
    "                make_set.append([])\n",
    "                \n",
    "                # Salvando as arestas confiaveis e criando a lista de  AGM \n",
    "                lista_arestas_AGM.append((u, v))\n",
    "                # Salvando o custo\n",
    "                custo_AGM.append(custo)\n",
    "                                 "
   ]
  },
  {
   "cell_type": "code",
   "execution_count": 16,
   "id": "played-furniture",
   "metadata": {},
   "outputs": [
    {
     "data": {
      "text/plain": [
       "29"
      ]
     },
     "execution_count": 16,
     "metadata": {},
     "output_type": "execute_result"
    }
   ],
   "source": [
    "len(lista_arestas_AGM)"
   ]
  },
  {
   "cell_type": "code",
   "execution_count": 17,
   "id": "contained-monaco",
   "metadata": {},
   "outputs": [
    {
     "data": {
      "text/plain": [
       "801"
      ]
     },
     "execution_count": 17,
     "metadata": {},
     "output_type": "execute_result"
    }
   ],
   "source": [
    "sum(custo_AGM)"
   ]
  },
  {
   "cell_type": "code",
   "execution_count": 18,
   "id": "coordinate-cinema",
   "metadata": {},
   "outputs": [
    {
     "name": "stdout",
     "output_type": "stream",
     "text": [
      "[(3, 25), (3, 7), (10, 29), (1, 18), (2, 18), (4, 19), (7, 9), (11, 24), (6, 23), (28, 29), (4, 12), (4, 6), (13, 15), (0, 25), (5, 8), (20, 29), (2, 5), (18, 25), (1, 6), (12, 21), (13, 18), (9, 29), (9, 11), (9, 17), (6, 26), (6, 22), (15, 27), (16, 22), (14, 25)]\n"
     ]
    }
   ],
   "source": [
    "print(lista_arestas_AGM)"
   ]
  },
  {
   "cell_type": "code",
   "execution_count": null,
   "id": "viral-three",
   "metadata": {},
   "outputs": [],
   "source": []
  }
 ],
 "metadata": {
  "kernelspec": {
   "display_name": "Python 3",
   "language": "python",
   "name": "python3"
  },
  "language_info": {
   "codemirror_mode": {
    "name": "ipython",
    "version": 3
   },
   "file_extension": ".py",
   "mimetype": "text/x-python",
   "name": "python",
   "nbconvert_exporter": "python",
   "pygments_lexer": "ipython3",
   "version": "3.8.8"
  }
 },
 "nbformat": 4,
 "nbformat_minor": 5
}
