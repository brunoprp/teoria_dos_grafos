{
 "cells": [
  {
   "cell_type": "markdown",
   "id": "psychological-telescope",
   "metadata": {},
   "source": [
    "# Árvore geradora mínima com o algortimo de Prim\n",
    "   * Domingos Bruno Sousa Santos"
   ]
  },
  {
   "cell_type": "code",
   "execution_count": 46,
   "id": "intelligent-briefs",
   "metadata": {},
   "outputs": [],
   "source": [
    "vertices_g = [0, 1, 2, 3, 4, 5, 6, 7, 8, 9, 10, \n",
    "              11, 12, 13, 14, 15, 16, 17, 18, 19, \n",
    "              20, 21, 22, 23, 24, 25, 26, 27, 28, 29]\n",
    "\n",
    "aresta_g = [(0, 1, 14), (0, 2, 48), (0, 3, 68), (0, 4, 35), \n",
    "            (0, 5, 41), (0, 6, 10), (0, 9, 23), (0, 10, 22), \n",
    "            (0, 13, 20), (0, 14, 80), (0, 16, 73), (0, 17, 70), \n",
    "            (0, 18, 92), (0, 20, 64), (0, 21, 31), (0, 23, 78), \n",
    "            (0, 24, 93), (0, 25, 32), (0, 27, 85), (0, 29, 99), \n",
    "            (1, 5, 90), (1, 6, 88), (1, 7, 75), (1, 8, 25), \n",
    "            (1, 9, 81), (1, 12, 27), (1, 13, 82), (1, 14, 30), \n",
    "            (1, 15, 91), (1, 19, 101), (1, 20, 15), (1, 22, 57), \n",
    "            (1, 23, 46), (1, 24, 17), (1, 25, 76), (1, 28, 18), \n",
    "            (1, 29, 96), (2, 4, 69), (2, 7, 54), (2, 8, 52), \n",
    "            (2, 16, 97), (2, 20, 98), (2, 21, 56), (2, 23, 59), \n",
    "            (2, 24, 44), (2, 25, 45), (2, 26, 53), (3, 5, 95), \n",
    "            (3, 7, 49), (3, 8, 38), (3, 9, 34), (3, 15, 60), \n",
    "            (4, 6, 50), (4, 8, 36), (4, 9, 87), (4, 16, 33), \n",
    "            (4, 20, 42), (4, 22, 71), (5, 10, 67), (5, 18, 61), \n",
    "            (5, 20, 94), (5, 21, 26), (5, 23, 84), (5, 26, 11), \n",
    "            (5, 27, 16), (6, 7, 83), (6, 16, 58), (6, 17, 100), \n",
    "            (6, 18, 39), (6, 23, 47), (6, 24, 19), (6, 27, 77), \n",
    "            (7, 10, 51), (7, 14, 43), (7, 24, 12), (8, 14, 62), \n",
    "            (8, 15, 63), (9, 11, 55), (9, 12, 24), (9, 16, 86), \n",
    "            (9, 28, 37), (10, 23, 72), (10, 24, 74), (11, 21, 29), \n",
    "            (13, 26, 13), (14, 20, 40), (16, 28, 79), (18, 22, 65)]"
   ]
  },
  {
   "cell_type": "code",
   "execution_count": 47,
   "id": "expected-auditor",
   "metadata": {},
   "outputs": [],
   "source": [
    "list_chave_vertice = []\n",
    "\n",
    "# Vertice inicial r \n",
    "list_chave_vertice.append([vertices_g[0], 0, None])\n",
    "# Criando a fila com o vertice a chave e o vertice predecessor \n",
    "for i in range(1, len(vertices_g)):\n",
    "    list_chave_vertice.append([vertices_g[i], 1000000000000000, None])"
   ]
  },
  {
   "cell_type": "code",
   "execution_count": 48,
   "id": "based-duplicate",
   "metadata": {},
   "outputs": [
    {
     "data": {
      "text/plain": [
       "[[0, 0, None],\n",
       " [1, 1000000000000000, None],\n",
       " [2, 1000000000000000, None],\n",
       " [3, 1000000000000000, None],\n",
       " [4, 1000000000000000, None],\n",
       " [5, 1000000000000000, None],\n",
       " [6, 1000000000000000, None],\n",
       " [7, 1000000000000000, None],\n",
       " [8, 1000000000000000, None],\n",
       " [9, 1000000000000000, None],\n",
       " [10, 1000000000000000, None],\n",
       " [11, 1000000000000000, None],\n",
       " [12, 1000000000000000, None],\n",
       " [13, 1000000000000000, None],\n",
       " [14, 1000000000000000, None],\n",
       " [15, 1000000000000000, None],\n",
       " [16, 1000000000000000, None],\n",
       " [17, 1000000000000000, None],\n",
       " [18, 1000000000000000, None],\n",
       " [19, 1000000000000000, None],\n",
       " [20, 1000000000000000, None],\n",
       " [21, 1000000000000000, None],\n",
       " [22, 1000000000000000, None],\n",
       " [23, 1000000000000000, None],\n",
       " [24, 1000000000000000, None],\n",
       " [25, 1000000000000000, None],\n",
       " [26, 1000000000000000, None],\n",
       " [27, 1000000000000000, None],\n",
       " [28, 1000000000000000, None],\n",
       " [29, 1000000000000000, None]]"
      ]
     },
     "execution_count": 48,
     "metadata": {},
     "output_type": "execute_result"
    }
   ],
   "source": [
    "list_chave_vertice"
   ]
  },
  {
   "cell_type": "code",
   "execution_count": 49,
   "id": "searching-provincial",
   "metadata": {},
   "outputs": [],
   "source": [
    "def estractMin(list_q):\n",
    "    chave_min = 0\n",
    "    \n",
    "    for i in range(0, len(list_q)):\n",
    "        \n",
    "        if list_q[i][1] <= chave_min:\n",
    "            chave_min = list_q[i][1]\n",
    "            index = list_q[i]\n",
    "    list_q.remove(index)        "
   ]
  },
  {
   "cell_type": "code",
   "execution_count": 50,
   "id": "bibliographic-magazine",
   "metadata": {},
   "outputs": [],
   "source": [
    "def adjVertice(vertice, list_aresta):\n",
    "    list_adj = []\n",
    "    \n",
    "    for i in range(0, len(list_aresta)):\n",
    "        \n",
    "        arestas = [list_aresta[i][0], list_aresta[i][1]]\n",
    "        \n",
    "        if vertice in arestas:\n",
    "            \n",
    "            if arestas[0] != vertice:\n",
    "                adj = arestas[0]\n",
    "            else:\n",
    "                adj = arestas[1]\n",
    "            \n",
    "            if adj not in list_adj:\n",
    "                list_adj.append([adj, list_aresta[i][2]])\n",
    "                \n",
    "    return list_adj"
   ]
  },
  {
   "cell_type": "code",
   "execution_count": null,
   "id": "falling-jordan",
   "metadata": {},
   "outputs": [],
   "source": []
  },
  {
   "cell_type": "code",
   "execution_count": 56,
   "id": "portuguese-delhi",
   "metadata": {},
   "outputs": [],
   "source": [
    "def UpdateAdjQ(lista_Q, list_adj, vertice_u):\n",
    "    \n",
    "    for i in range(0, len(list_adj)): # [[vertice, peso], ....] \n",
    "        \n",
    "        for j in range(0, len(lista_Q)): # [[vertice, chave, precedente], .....]\n",
    "            \n",
    "            if list_adj[i][0] == lista_Q[j][0]:\n",
    "                \n",
    "                lista_Q[j][1] = list_adj[i][1] # atualizando achave\n",
    "                lista_Q[j][2] = vertice_u # Atualizando o vertice precendente\n",
    "                \n",
    "    return lista_Q "
   ]
  },
  {
   "cell_type": "code",
   "execution_count": 10,
   "id": "spectacular-wagon",
   "metadata": {},
   "outputs": [
    {
     "ename": "KeyboardInterrupt",
     "evalue": "",
     "output_type": "error",
     "traceback": [
      "\u001b[0;31m---------------------------------------------------------------------------\u001b[0m",
      "\u001b[0;31mKeyboardInterrupt\u001b[0m                         Traceback (most recent call last)",
      "\u001b[0;32m<ipython-input-10-76f80b94513d>\u001b[0m in \u001b[0;36m<module>\u001b[0;34m\u001b[0m\n\u001b[1;32m      1\u001b[0m \u001b[0;31m# Enquanto a lista Q [vertice,Chaves, predecessor] não for vazia\u001b[0m\u001b[0;34m\u001b[0m\u001b[0;34m\u001b[0m\u001b[0;34m\u001b[0m\u001b[0m\n\u001b[0;32m----> 2\u001b[0;31m \u001b[0;32mwhile\u001b[0m \u001b[0mlen\u001b[0m\u001b[0;34m(\u001b[0m\u001b[0mlist_chave_vertice\u001b[0m\u001b[0;34m)\u001b[0m \u001b[0;34m>\u001b[0m \u001b[0;36m0\u001b[0m\u001b[0;34m:\u001b[0m\u001b[0;34m\u001b[0m\u001b[0;34m\u001b[0m\u001b[0m\n\u001b[0m\u001b[1;32m      3\u001b[0m     \u001b[0;32mpass\u001b[0m\u001b[0;34m\u001b[0m\u001b[0;34m\u001b[0m\u001b[0m\n\u001b[1;32m      4\u001b[0m \u001b[0;34m\u001b[0m\u001b[0m\n",
      "\u001b[0;31mKeyboardInterrupt\u001b[0m: "
     ]
    }
   ],
   "source": [
    "# Enquanto a lista Q [vertice,Chaves, predecessor] não for vazia \n",
    "while len(list_chave_vertice) > 0:\n",
    "    \n",
    "    # Pegando o vertice u\n",
    "    vertice_u = list_chave_vertice[0][0]\n",
    "    # Removendo o vertice com menor chave\n",
    "    estractMin(list_chave_vertice) \n",
    "    \n",
    "    # pegando todos os vertices adijacente u\n",
    "    lista_adj = adjVertice(vertice_r, aresta_g)\n",
    "    \n",
    "    for i in range(0, lista_adj):\n",
    "        \n",
    "        \n",
    "        vertice_v  = lista_adj[0][0]\n",
    "        peso_vu =  lista_adj[0][1]\n",
    "        \n",
    "        # Verificando se r (Vertice adijacebte a u) está em Q (list_chave_vertice)\n",
    "        for j in range(0, len(list_chave_vertice)):\n",
    "            \n",
    "            # Caso exista na lista Q para o laço\n",
    "            if vertice_r == list_chave_vertice[j][0]:\n",
    "                \n",
    "                # Verificando se a chave de v e maior que o peso da aresta u,v\n",
    "                if peso_vu < list_chave_vertice[j]:\n",
    "                    \n",
    "                    \n",
    "        \n",
    "        \n",
    "    "
   ]
  },
  {
   "cell_type": "code",
   "execution_count": 8,
   "id": "unexpected-tomato",
   "metadata": {},
   "outputs": [
    {
     "data": {
      "text/plain": [
       "0"
      ]
     },
     "execution_count": 8,
     "metadata": {},
     "output_type": "execute_result"
    }
   ],
   "source": [
    "a = []\n",
    "len(a)"
   ]
  },
  {
   "cell_type": "code",
   "execution_count": 31,
   "id": "prospective-affair",
   "metadata": {},
   "outputs": [
    {
     "data": {
      "text/plain": [
       "1"
      ]
     },
     "execution_count": 31,
     "metadata": {},
     "output_type": "execute_result"
    }
   ],
   "source": [
    "list_chave_vertice[1][0]"
   ]
  },
  {
   "cell_type": "code",
   "execution_count": null,
   "id": "pointed-suite",
   "metadata": {},
   "outputs": [],
   "source": []
  }
 ],
 "metadata": {
  "kernelspec": {
   "display_name": "Python 3",
   "language": "python",
   "name": "python3"
  },
  "language_info": {
   "codemirror_mode": {
    "name": "ipython",
    "version": 3
   },
   "file_extension": ".py",
   "mimetype": "text/x-python",
   "name": "python",
   "nbconvert_exporter": "python",
   "pygments_lexer": "ipython3",
   "version": "3.8.8"
  }
 },
 "nbformat": 4,
 "nbformat_minor": 5
}
