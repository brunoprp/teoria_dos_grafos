{
 "cells": [
  {
   "cell_type": "markdown",
   "id": "developed-filter",
   "metadata": {},
   "source": [
    "# Árvore geradora mínima com o algortimo de Prim\n",
    "   * Domingos Bruno Sousa Santos"
   ]
  },
  {
   "cell_type": "code",
   "execution_count": null,
   "id": "adolescent-selection",
   "metadata": {},
   "outputs": [],
   "source": [
    "vertices_g = [0, 1, 2, 3, 4, 5, 6, 7, 8, 9, 10, \n",
    "              11, 12, 13, 14, 15, 16, 17, 18, 19, \n",
    "              20, 21, 22, 23, 24, 25, 26, 27, 28, 29]\n",
    "\n",
    "aresta_g = [(0, 1, 14), (0, 2, 48), (0, 3, 68), (0, 4, 35), \n",
    "            (0, 5, 41), (0, 6, 10), (0, 9, 23), (0, 10, 22), \n",
    "            (0, 13, 20), (0, 14, 80), (0, 16, 73), (0, 17, 70), \n",
    "            (0, 18, 92), (0, 20, 64), (0, 21, 31), (0, 23, 78), \n",
    "            (0, 24, 93), (0, 25, 32), (0, 27, 85), (0, 29, 99), \n",
    "            (1, 5, 90), (1, 6, 88), (1, 7, 75), (1, 8, 25), \n",
    "            (1, 9, 81), (1, 12, 27), (1, 13, 82), (1, 14, 30), \n",
    "            (1, 15, 91), (1, 19, 101), (1, 20, 15), (1, 22, 57), \n",
    "            (1, 23, 46), (1, 24, 17), (1, 25, 76), (1, 28, 18), \n",
    "            (1, 29, 96), (2, 4, 69), (2, 7, 54), (2, 8, 52), \n",
    "            (2, 16, 97), (2, 20, 98), (2, 21, 56), (2, 23, 59), \n",
    "            (2, 24, 44), (2, 25, 45), (2, 26, 53), (3, 5, 95), \n",
    "            (3, 7, 49), (3, 8, 38), (3, 9, 34), (3, 15, 60), \n",
    "            (4, 6, 50), (4, 8, 36), (4, 9, 87), (4, 16, 33), \n",
    "            (4, 20, 42), (4, 22, 71), (5, 10, 67), (5, 18, 61), \n",
    "            (5, 20, 94), (5, 21, 26), (5, 23, 84), (5, 26, 11), \n",
    "            (5, 27, 16), (6, 7, 83), (6, 16, 58), (6, 17, 100), \n",
    "            (6, 18, 39), (6, 23, 47), (6, 24, 19), (6, 27, 77), \n",
    "            (7, 10, 51), (7, 14, 43), (7, 24, 12), (8, 14, 62), \n",
    "            (8, 15, 63), (9, 11, 55), (9, 12, 24), (9, 16, 86), \n",
    "            (9, 28, 37), (10, 23, 72), (10, 24, 74), (11, 21, 29), \n",
    "            (13, 26, 13), (14, 20, 40), (16, 28, 79), (18, 22, 65)]"
   ]
  },
  {
   "cell_type": "code",
   "execution_count": null,
   "id": "demonstrated-apache",
   "metadata": {},
   "outputs": [],
   "source": [
    "# Criando a lista Q com o vertice a chave e virtice de precedencia\n",
    "list_chave_vertice = []\n",
    "\n",
    "# Vertice inicial r \n",
    "list_chave_vertice.append([vertices_g[0], 0, None])\n",
    "# Criando a fila com o vertice, chave e o vertice predecessor \n",
    "for i in range(1, len(vertices_g)):\n",
    "    list_chave_vertice.append([vertices_g[i], 1000000000000000, None])"
   ]
  },
  {
   "cell_type": "code",
   "execution_count": 4,
   "id": "dutch-owner",
   "metadata": {},
   "outputs": [],
   "source": [
    "# Função para encontrar a menor chave da fila criada e remover esse elemento da fila\n",
    "def estractMin(list_q):\n",
    "    chave_min = list_q[0][1]\n",
    "    id_i = 0\n",
    "    for i in range(0, len(list_q)):\n",
    "        \n",
    "        if list_q[i][1] <= chave_min:\n",
    "            chave_min = list_q[i][1]\n",
    "            index = list_q[i]\n",
    "            id_i = i\n",
    " \n",
    "    vertice_AGM = list_q[id_i]\n",
    "    list_q.remove(index) \n",
    "    \n",
    "    # Retorna o vertice removido e as aresta seguras da AGM\n",
    "    return index[0], (vertice_AGM[0], vertice_AGM[2])\n"
   ]
  },
  {
   "cell_type": "code",
   "execution_count": 5,
   "id": "increased-thread",
   "metadata": {},
   "outputs": [],
   "source": [
    "# Função usada para encontrr todos o vertices adjacente de vertice qualquer\n",
    "def adjVertice(vertice, list_aresta):\n",
    "    list_adj = []\n",
    "    \n",
    "    for i in range(0, len(list_aresta)):\n",
    "        \n",
    "        arestas = [list_aresta[i][0], list_aresta[i][1]]\n",
    "        \n",
    "        if vertice in arestas:\n",
    "            \n",
    "            if arestas[0] != vertice:\n",
    "                adj = arestas[0]\n",
    "            else:\n",
    "                adj = arestas[1]\n",
    "            \n",
    "            if adj not in list_adj:\n",
    "                list_adj.append([adj, list_aresta[i][2]])\n",
    "                \n",
    "    return list_adj # Retorna a lista de adjacentes"
   ]
  },
  {
   "cell_type": "code",
   "execution_count": null,
   "id": "considered-marks",
   "metadata": {},
   "outputs": [],
   "source": []
  },
  {
   "cell_type": "code",
   "execution_count": 6,
   "id": "needed-interface",
   "metadata": {},
   "outputs": [],
   "source": [
    "# Função usada para atualizar a fila criada anteriormente (list_chave_vertice)\n",
    "def UpdateAdjQ(lista_Q, list_adj, vertice_u):\n",
    "    \n",
    "    for i in range(0, len(list_adj)): # [[vertice, peso], ....] \n",
    "        \n",
    "        for j in range(0, len(lista_Q)): # [[vertice, chave, precedente], .....]\n",
    "            \n",
    "            if list_adj[i][0] == lista_Q[j][0] and list_adj[i][1] < lista_Q[j][1]:\n",
    "                \n",
    "                lista_Q[j][1] = list_adj[i][1] # atualizando achave\n",
    "                lista_Q[j][2] = vertice_u # Atualizando o vertice precendente\n",
    "                \n",
    "    return lista_Q # Retorna  fila atualizada"
   ]
  },
  {
   "cell_type": "code",
   "execution_count": 7,
   "id": "meaningful-girlfriend",
   "metadata": {},
   "outputs": [],
   "source": [
    "# ************* Aplicando o algortimo de Prim *******************\n",
    "\n",
    "\n",
    "list_AGM = [] # Lista de aresta da AGM\n",
    "\n",
    "# Removendo o vertice com menor chave\n",
    "vertice_u, vertices_AGM = estractMin(list_chave_vertice)\n",
    "\n",
    "# pegando todos os vertices adijacente u\n",
    "list_adj = adjVertice(vertice_u, aresta_g)\n",
    "\n",
    "# Fazendo o update da lista Q (list_chave_vertice)\n",
    "# Atualizando a chave e o precedente de cada adjacente de u\n",
    "list_chave_vertice = UpdateAdjQ(list_chave_vertice, list_adj, vertice_u)\n",
    "\n",
    "# Enquanto a lista Q [vertice,Chaves, predecessor] não for vazia \n",
    "while len(list_chave_vertice) > 0:\n",
    "    \n",
    "    # Pegando o vertice u\n",
    "    # Removendo o vertice com menor chave\n",
    "    vertice_u,vertices_AGM = estractMin(list_chave_vertice)\n",
    "    if vertices_AGM[1] != None:\n",
    "        list_AGM.append(vertices_AGM)\n",
    "    \n",
    "    # pegando todos os vertices adijacente u\n",
    "    list_adj = adjVertice(vertice_u, aresta_g)\n",
    "    \n",
    "    # Fazendo o update da lista Q (list_chave_vertice)\n",
    "    # Atualizando a chave e o precedente de cada adjacente de u\n",
    "    list_chave_vertice = UpdateAdjQ(list_chave_vertice, list_adj, vertice_u)\n",
    "        \n",
    "    "
   ]
  },
  {
   "cell_type": "code",
   "execution_count": 12,
   "id": "running-frequency",
   "metadata": {},
   "outputs": [
    {
     "data": {
      "text/plain": [
       "29"
      ]
     },
     "execution_count": 12,
     "metadata": {},
     "output_type": "execute_result"
    }
   ],
   "source": [
    "len(list_AGM)"
   ]
  },
  {
   "cell_type": "code",
   "execution_count": 13,
   "id": "developmental-scotland",
   "metadata": {},
   "outputs": [
    {
     "data": {
      "text/plain": [
       "[(6, 0),\n",
       " (1, 0),\n",
       " (20, 1),\n",
       " (24, 1),\n",
       " (7, 24),\n",
       " (28, 1),\n",
       " (13, 0),\n",
       " (26, 13),\n",
       " (5, 26),\n",
       " (27, 5),\n",
       " (10, 0),\n",
       " (9, 0),\n",
       " (12, 9),\n",
       " (8, 1),\n",
       " (21, 5),\n",
       " (11, 21),\n",
       " (14, 1),\n",
       " (25, 0),\n",
       " (3, 9),\n",
       " (4, 0),\n",
       " (16, 4),\n",
       " (18, 6),\n",
       " (2, 24),\n",
       " (23, 1),\n",
       " (22, 1),\n",
       " (15, 3),\n",
       " (17, 0),\n",
       " (29, 1),\n",
       " (19, 1)]"
      ]
     },
     "execution_count": 13,
     "metadata": {},
     "output_type": "execute_result"
    }
   ],
   "source": [
    "list_AGM"
   ]
  }
 ],
 "metadata": {
  "kernelspec": {
   "display_name": "Python 3",
   "language": "python",
   "name": "python3"
  },
  "language_info": {
   "codemirror_mode": {
    "name": "ipython",
    "version": 3
   },
   "file_extension": ".py",
   "mimetype": "text/x-python",
   "name": "python",
   "nbconvert_exporter": "python",
   "pygments_lexer": "ipython3",
   "version": "3.8.8"
  }
 },
 "nbformat": 4,
 "nbformat_minor": 5
}
