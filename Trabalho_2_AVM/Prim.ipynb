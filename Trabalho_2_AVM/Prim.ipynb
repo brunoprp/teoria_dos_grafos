{
 "cells": [
  {
   "cell_type": "markdown",
   "id": "encouraging-samoa",
   "metadata": {},
   "source": [
    "# Árvore geradora mínima com o algortimo de Prim\n",
    "   * Domingos Bruno Sousa Santos"
   ]
  },
  {
   "cell_type": "code",
   "execution_count": 18,
   "id": "athletic-corpus",
   "metadata": {},
   "outputs": [],
   "source": [
    "vertices_g = [0, 1, 2, 3, 4, 5, 6, 7, 8, 9, 10, \n",
    "              11, 12, 13, 14, 15, 16, 17, 18, 19, \n",
    "              20, 21, 22, 23, 24, 25, 26, 27, 28, 29]\n",
    "\n",
    "\n",
    "aresta_g = [(0, 3, 79), (0, 5, 246), (0, 6, 129), (0, 7, 204), (0, 8, 295),\n",
    "            (0, 9, 75), (0, 12, 117), (0, 13, 212), (0, 14, 105), (0, 16, 88), \n",
    "            (0, 22, 108), (0, 23, 273), (0, 25, 24), (0, 29, 251), (1, 2, 235), \n",
    "            (1, 3, 123), (1, 4, 267), (1, 6, 29), (1, 7, 53), (1, 9, 274), \n",
    "            (1, 13, 238), (1, 14, 162), (1, 18, 13), (1, 19, 109), \n",
    "            (1, 20, 254), (1, 21, 141), (1, 22, 116), (1, 24, 45), \n",
    "            (1, 25, 151), (1, 26, 190), (1, 27, 257), (1, 28, 200), \n",
    "            (2, 4, 215), (2, 5, 27), (2, 6, 262), (2, 9, 154), (2, 12, 90),\n",
    "            (2, 16, 68), (2, 17, 283), (2, 18, 14), (2, 19, 137), (2, 20, 66),\n",
    "            (2, 21, 101), (2, 23, 142), (2, 24, 231), (2, 26, 158), \n",
    "            (3, 5, 194), (3, 7, 11), (3, 9, 42), (3, 12, 175), (3, 18, 199),\n",
    "            (3, 19, 131), (3, 24, 81), (3, 25, 10), (3, 28, 260), \n",
    "            (3, 29, 242), (4, 5, 188), (4, 6, 22), (4, 7, 271), (4, 8, 183),\n",
    "            (4, 9, 67), (4, 10, 216), (4, 12, 21), (4, 13, 159), (4, 17, 139), \n",
    "            (4, 19, 15), (4, 21, 240), (4, 23, 99), (4, 25, 126), (4, 26, 211),\n",
    "            (4, 27, 298), (5, 8, 25), (5, 9, 174), (5, 10, 60), (5, 11, 47), \n",
    "            (5, 12, 259), (5, 15, 249), (5, 17, 282), (5, 18, 130), \n",
    "            (5, 25, 209), (5, 28, 203), (5, 29, 143), (6, 7, 248), (6, 8, 54), \n",
    "            (6, 11, 74), (6, 14, 124), (6, 19, 180), (6, 21, 286), (6, 22, 44),\n",
    "            (6, 23, 19), (6, 25, 56), (6, 26, 41), (6, 28, 57), (7, 9, 17), \n",
    "            (7, 10, 43), (7, 12, 265), (7, 15, 234), (7, 17, 89), (7, 19, 118), \n",
    "            (7, 20, 83), (7, 21, 146), (7, 22, 236), (7, 29, 230), \n",
    "            (8, 15, 110), (8, 16, 102), (8, 17, 208), (8, 18, 48), \n",
    "            (8, 21, 92), (8, 22, 247), (8, 23, 253), (8, 27, 217), \n",
    "            (8, 29, 144), (9, 10, 284), (9, 11, 34), (9, 15, 119), \n",
    "            (9, 17, 36), (9, 18, 276), (9, 21, 184), (9, 23, 38), \n",
    "            (9, 24, 55), (9, 25, 201), (9, 28, 290), (9, 29, 33), \n",
    "            (10, 13, 219), (10, 14, 111), (10, 15, 165), (10, 19, 177), \n",
    "            (10, 20, 256), (10, 23, 64), (10, 27, 115), (10, 28, 288), \n",
    "            (10, 29, 12), (11, 14, 289), (11, 15, 153), (11, 17, 250), \n",
    "            (11, 19, 252), (11, 20, 155), (11, 21, 145), (11, 23, 37), \n",
    "            (11, 24, 18), (11, 27, 106), (11, 28, 156), (12, 15, 164), \n",
    "            (12, 16, 179), (12, 17, 113), (12, 19, 182), (12, 21, 30), \n",
    "            (12, 24, 127), (12, 26, 293), (12, 27, 85), (13, 15, 23), \n",
    "            (13, 18, 32), (13, 19, 148), (14, 16, 187), (14, 19, 167), \n",
    "            (14, 23, 71), (14, 25, 65), (14, 27, 191), (14, 28, 206), \n",
    "            (14, 29, 128), (15, 20, 239), (15, 26, 120), (15, 27, 51),\n",
    "            (15, 28, 280), (15, 29, 186), (16, 17, 62), (16, 18, 224), \n",
    "            (16, 19, 279), (16, 20, 133), (16, 21, 147), (16, 22, 61), \n",
    "            (16, 25, 72), (16, 27, 233), (16, 28, 181), (16, 29, 84),\n",
    "            (17, 18, 82), (17, 22, 243), (17, 24, 132), (17, 25, 76), \n",
    "            (17, 26, 171), (17, 27, 58), (17, 29, 77), (18, 19, 98), \n",
    "            (18, 21, 100), (18, 25, 28), (18, 27, 241), (18, 28, 152),\n",
    "            (18, 29, 222), (19, 21, 40), (19, 23, 272), (19, 25, 112),\n",
    "            (19, 26, 296), (19, 27, 281), (19, 29, 213), (20, 21, 228),\n",
    "            (20, 23, 198), (20, 24, 93), (20, 25, 63), (20, 26, 140), \n",
    "            (20, 27, 185), (20, 28, 285), (20, 29, 26), (21, 24, 172), \n",
    "            (22, 23, 80), (22, 24, 97), (22, 26, 232), (22, 27, 170),\n",
    "            (22, 28, 223), (22, 29, 221), (23, 24, 227), (23, 25, 193), \n",
    "            (23, 27, 294), (23, 29, 220), (24, 25, 161), (24, 26, 160), \n",
    "            (25, 26, 150), (27, 28, 291), (27, 29, 96), (28, 29, 20)]"
   ]
  },
  {
   "cell_type": "code",
   "execution_count": 19,
   "id": "equal-causing",
   "metadata": {},
   "outputs": [],
   "source": [
    "# Criando a lista Q com o vertice a chave e virtice de precedencia\n",
    "list_chave_vertice = []\n",
    "\n",
    "# Vertice inicial r \n",
    "list_chave_vertice.append([vertices_g[16], 0, None])\n",
    "# Criando a fila com o vertice, chave e o vertice predecessor \n",
    "for i in range(1, len(vertices_g)):\n",
    "    list_chave_vertice.append([vertices_g[i], 1000000000000000, None])"
   ]
  },
  {
   "cell_type": "code",
   "execution_count": 20,
   "id": "announced-workplace",
   "metadata": {},
   "outputs": [],
   "source": [
    "# Função para encontrar a menor chave da fila criada e remover esse elemento da fila\n",
    "def estractMin(list_q):\n",
    "    chave_min = list_q[0][1]\n",
    "    id_i = 0\n",
    "    for i in range(0, len(list_q)):\n",
    "        \n",
    "        if list_q[i][1] <= chave_min:\n",
    "            chave_min = list_q[i][1]\n",
    "            index = list_q[i]\n",
    "            id_i = i\n",
    " \n",
    "    vertice_AGM = list_q[id_i]\n",
    "    list_q.remove(index) \n",
    "    \n",
    "    # Retorna o vertice removido e as aresta seguras da AGM\n",
    "    return index[0], (vertice_AGM[0], vertice_AGM[2])\n"
   ]
  },
  {
   "cell_type": "code",
   "execution_count": 21,
   "id": "continued-yacht",
   "metadata": {},
   "outputs": [],
   "source": [
    "# Função usada para encontrr todos o vertices adjacente de vertice qualquer\n",
    "def adjVertice(vertice, list_aresta):\n",
    "    list_adj = []\n",
    "    \n",
    "    for i in range(0, len(list_aresta)):\n",
    "        \n",
    "        arestas = [list_aresta[i][0], list_aresta[i][1]]\n",
    "        \n",
    "        if vertice in arestas:\n",
    "            \n",
    "            if arestas[0] != vertice:\n",
    "                adj = arestas[0]\n",
    "            else:\n",
    "                adj = arestas[1]\n",
    "            \n",
    "            if adj not in list_adj:\n",
    "                list_adj.append([adj, list_aresta[i][2]])\n",
    "                \n",
    "    return list_adj # Retorna a lista de adjacentes"
   ]
  },
  {
   "cell_type": "code",
   "execution_count": 22,
   "id": "arranged-cannon",
   "metadata": {},
   "outputs": [],
   "source": [
    "# Função usada para atualizar a fila criada anteriormente (list_chave_vertice)\n",
    "def UpdateAdjQ(lista_Q, list_adj, vertice_u):\n",
    "    \n",
    "    for i in range(0, len(list_adj)): # [[vertice, peso], ....] \n",
    "        \n",
    "        for j in range(0, len(lista_Q)): # [[vertice, chave, precedente], .....]\n",
    "            \n",
    "            if list_adj[i][0] == lista_Q[j][0] and list_adj[i][1] < lista_Q[j][1]:\n",
    "                \n",
    "                lista_Q[j][1] = list_adj[i][1] # atualizando achave\n",
    "                lista_Q[j][2] = vertice_u # Atualizando o vertice precendente\n",
    "                \n",
    "    return lista_Q # Retorna  fila atualizada"
   ]
  },
  {
   "cell_type": "code",
   "execution_count": 23,
   "id": "handmade-garage",
   "metadata": {},
   "outputs": [],
   "source": [
    "# ************* Aplicando o algortimo de Prim *******************\n",
    "\n",
    "\n",
    "list_AGM = [] # Lista de aresta da AGM\n",
    "\n",
    "# Removendo o vertice com menor chave\n",
    "vertice_u, vertices_AGM = estractMin(list_chave_vertice)\n",
    "\n",
    "# pegando todos os vertices adijacente u\n",
    "list_adj = adjVertice(vertice_u, aresta_g)\n",
    "\n",
    "# Fazendo o update da lista Q (list_chave_vertice)\n",
    "# Atualizando a chave e o precedente de cada adjacente de u\n",
    "list_chave_vertice = UpdateAdjQ(list_chave_vertice, list_adj, vertice_u)\n",
    "\n",
    "# Enquanto a lista Q [vertice,Chaves, predecessor] não for vazia \n",
    "while len(list_chave_vertice) > 0:\n",
    "    \n",
    "    # Pegando o vertice u\n",
    "    # Removendo o vertice com menor chave\n",
    "    vertice_u,vertices_AGM = estractMin(list_chave_vertice)\n",
    "    if vertices_AGM[1] != None:\n",
    "        list_AGM.append(vertices_AGM)\n",
    "    \n",
    "    # pegando todos os vertices adijacente u\n",
    "    list_adj = adjVertice(vertice_u, aresta_g)\n",
    "    \n",
    "    # Fazendo o update da lista Q (list_chave_vertice)\n",
    "    # Atualizando a chave e o precedente de cada adjacente de u\n",
    "    list_chave_vertice = UpdateAdjQ(list_chave_vertice, list_adj, vertice_u)\n",
    "        \n",
    "    "
   ]
  },
  {
   "cell_type": "code",
   "execution_count": 24,
   "id": "intelligent-laundry",
   "metadata": {},
   "outputs": [
    {
     "data": {
      "text/plain": [
       "29"
      ]
     },
     "execution_count": 24,
     "metadata": {},
     "output_type": "execute_result"
    }
   ],
   "source": [
    "len(list_AGM)"
   ]
  },
  {
   "cell_type": "code",
   "execution_count": 25,
   "id": "welsh-eugene",
   "metadata": {},
   "outputs": [
    {
     "name": "stdout",
     "output_type": "stream",
     "text": [
      "[(22, 16), (6, 22), (23, 6), (4, 6), (19, 4), (12, 4), (1, 6), (18, 1), (2, 18), (5, 2), (8, 5), (25, 18), (3, 25), (7, 3), (9, 7), (21, 12), (13, 18), (15, 13), (29, 9), (10, 29), (28, 29), (20, 29), (11, 9), (24, 11), (17, 9), (26, 6), (27, 15), (16, 22), (14, 25)]\n"
     ]
    }
   ],
   "source": [
    "print(list_AGM)"
   ]
  },
  {
   "cell_type": "code",
   "execution_count": null,
   "id": "funded-single",
   "metadata": {},
   "outputs": [],
   "source": []
  }
 ],
 "metadata": {
  "kernelspec": {
   "display_name": "Python 3",
   "language": "python",
   "name": "python3"
  },
  "language_info": {
   "codemirror_mode": {
    "name": "ipython",
    "version": 3
   },
   "file_extension": ".py",
   "mimetype": "text/x-python",
   "name": "python",
   "nbconvert_exporter": "python",
   "pygments_lexer": "ipython3",
   "version": "3.8.8"
  }
 },
 "nbformat": 4,
 "nbformat_minor": 5
}
