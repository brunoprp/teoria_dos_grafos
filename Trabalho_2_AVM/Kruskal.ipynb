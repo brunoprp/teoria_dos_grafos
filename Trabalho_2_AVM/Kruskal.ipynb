{
 "cells": [
  {
   "cell_type": "code",
   "execution_count": null,
   "id": "beautiful-appreciation",
   "metadata": {},
   "outputs": [],
   "source": [
    "vertices_g = [0, 1, 2, 3, 4, 5, 6, 7, 8, 9, 10, \n",
    "              11, 12, 13, 14, 15, 16, 17, 18, 19, \n",
    "              20, 21, 22, 23, 24, 25, 26, 27, 28, 29]\n",
    "\n",
    "aresta_g = [(0, 1, 14), (0, 2, 48), (0, 3, 68), (0, 4, 35), \n",
    "            (0, 5, 41), (0, 6, 10), (0, 9, 23), (0, 10, 22), \n",
    "            (0, 13, 20), (0, 14, 80), (0, 16, 73), (0, 17, 70), \n",
    "            (0, 18, 92), (0, 20, 64), (0, 21, 31), (0, 23, 78), \n",
    "            (0, 24, 93), (0, 25, 32), (0, 27, 85), (0, 29, 99), \n",
    "            (1, 5, 90), (1, 6, 88), (1, 7, 75), (1, 8, 25), \n",
    "            (1, 9, 81), (1, 12, 27), (1, 13, 82), (1, 14, 30), \n",
    "            (1, 15, 91), (1, 19, 101), (1, 20, 15), (1, 22, 57), \n",
    "            (1, 23, 46), (1, 24, 17), (1, 25, 76), (1, 28, 18), \n",
    "            (1, 29, 96), (2, 4, 69), (2, 7, 54), (2, 8, 52), \n",
    "            (2, 16, 97), (2, 20, 98), (2, 21, 56), (2, 23, 59), \n",
    "            (2, 24, 44), (2, 25, 45), (2, 26, 53), (3, 5, 95), \n",
    "            (3, 7, 49), (3, 8, 38), (3, 9, 34), (3, 15, 60), \n",
    "            (4, 6, 50), (4, 8, 36), (4, 9, 87), (4, 16, 33), \n",
    "            (4, 20, 42), (4, 22, 71), (5, 10, 67), (5, 18, 61), \n",
    "            (5, 20, 94), (5, 21, 26), (5, 23, 84), (5, 26, 11), \n",
    "            (5, 27, 16), (6, 7, 83), (6, 16, 58), (6, 17, 100), \n",
    "            (6, 18, 39), (6, 23, 47), (6, 24, 19), (6, 27, 77), \n",
    "            (7, 10, 51), (7, 14, 43), (7, 24, 12), (8, 14, 62), \n",
    "            (8, 15, 63), (9, 11, 55), (9, 12, 24), (9, 16, 86), \n",
    "            (9, 28, 37), (10, 23, 72), (10, 24, 74), (11, 21, 29), \n",
    "            (13, 26, 13), (14, 20, 40), (16, 28, 79), (18, 22, 65)]"
   ]
  },
  {
   "cell_type": "code",
   "execution_count": 2,
   "id": "changed-vessel",
   "metadata": {},
   "outputs": [],
   "source": [
    "len(vertices_g)"
   ]
  },
  {
   "cell_type": "markdown",
   "id": "duplicate-report",
   "metadata": {},
   "source": [
    "## Árvore geradora mínima com o algortimo de Kruskall\n",
    "  * Ordenar as arestas de acordo com seus pesos"
   ]
  },
  {
   "cell_type": "code",
   "execution_count": 3,
   "id": "global-blood",
   "metadata": {},
   "outputs": [],
   "source": [
    "A = []\n",
    "make_set = []\n",
    "for i in range(0, len(vertices_g)):\n",
    "    make_set.append([vertices_g[i]])"
   ]
  },
  {
   "cell_type": "code",
   "execution_count": 4,
   "id": "chemical-aggregate",
   "metadata": {},
   "outputs": [],
   "source": [
    "# Algortimo de ordenação Bubble Sorte\n",
    "# Usado para ordenar as arestas de acordo com os pesos\n",
    "def bubble_sort(lista):\n",
    "    elementos = len(lista)-1\n",
    "    ordenado = False\n",
    "    while not ordenado:\n",
    "        ordenado = True\n",
    "        for i in range(0, elementos):\n",
    "            if lista[i][2] > lista[i+1][2]:\n",
    "                lista[i], lista[i+1] = lista[i+1],lista[i]\n",
    "                ordenado = False        \n",
    "    return lista"
   ]
  },
  {
   "cell_type": "code",
   "execution_count": 5,
   "id": "blessed-palestinian",
   "metadata": {},
   "outputs": [
    {
     "data": {
      "text/plain": [
       "[(0, 6, 10),\n",
       " (5, 26, 11),\n",
       " (7, 24, 12),\n",
       " (13, 26, 13),\n",
       " (0, 1, 14),\n",
       " (1, 20, 15),\n",
       " (5, 27, 16),\n",
       " (1, 24, 17),\n",
       " (1, 28, 18),\n",
       " (6, 24, 19)]"
      ]
     },
     "execution_count": 5,
     "metadata": {},
     "output_type": "execute_result"
    }
   ],
   "source": [
    "list_aresta_ordena = bubble_sort(aresta_g)\n",
    "list_aresta_ordena[:10] # Imprimindo as 10 primeiras arestas ordenadas"
   ]
  },
  {
   "cell_type": "code",
   "execution_count": 6,
   "id": "occasional-champion",
   "metadata": {},
   "outputs": [],
   "source": [
    "def mergeList(list_1, list_2):\n",
    "\n",
    "    for i in list_2:\n",
    "        \n",
    "        if i not in list_1:\n",
    "            \n",
    "            list_1.append(i)\n",
    "            \n",
    "    return list_1"
   ]
  },
  {
   "cell_type": "code",
   "execution_count": 7,
   "id": "capable-fraction",
   "metadata": {},
   "outputs": [],
   "source": [
    "lista_arestas_AGM = [] # Lista de AGM\n",
    "for i in range(0, len(list_aresta_ordena)):\n",
    "    u = list_aresta_ordena[i][0]\n",
    "    v = list_aresta_ordena[i][1]\n",
    "    \n",
    "    \n",
    "    \n",
    "    for j in range(0, len(make_set)):\n",
    "        \n",
    "        # Encontrando o conjunto de u\n",
    "        \n",
    "        if u in make_set[j]:\n",
    "            \n",
    "            # Verificando se v não esta no mesmo conjunto de u\n",
    "            if v not in make_set[j]:\n",
    "                \n",
    "                # Encontrando o conjunto de v\n",
    "                for l in range(0, len(make_set)):\n",
    "                    \n",
    "                    if v in make_set[l]:\n",
    "                        # Quardando o conjunto v\n",
    "                        conjunto_v = make_set[l]\n",
    "                        break\n",
    "                \n",
    "                \n",
    "                #Caso não esteja, juntando v no conjunto de u\n",
    "                make_set[j] = mergeList(make_set[j], conjunto_v)\n",
    "                    \n",
    "                    \n",
    "                # Removendo o conjunto v da lista depois de unido com o u\n",
    "                make_set.remove(conjunto_v)\n",
    "                # Adicionando uma lista vazia para manter o tamnho incial da lisata make_set\n",
    "                make_set.append([])\n",
    "                \n",
    "                # Salvando as arestas confiaveis e criando a lista de  AGM \n",
    "                lista_arestas_AGM.append((u, v))\n",
    "                \n",
    "        \n",
    "                \n",
    "                 \n",
    "                "
   ]
  },
  {
   "cell_type": "code",
   "execution_count": 8,
   "id": "industrial-reaction",
   "metadata": {},
   "outputs": [
    {
     "data": {
      "text/plain": [
       "29"
      ]
     },
     "execution_count": 8,
     "metadata": {},
     "output_type": "execute_result"
    }
   ],
   "source": [
    "len(lista_arestas_AGM)"
   ]
  },
  {
   "cell_type": "code",
   "execution_count": 10,
   "id": "paperback-casino",
   "metadata": {},
   "outputs": [
    {
     "data": {
      "text/plain": [
       "[(0, 6),\n",
       " (5, 26),\n",
       " (7, 24),\n",
       " (13, 26),\n",
       " (0, 1),\n",
       " (1, 20),\n",
       " (5, 27),\n",
       " (1, 24),\n",
       " (1, 28),\n",
       " (0, 13),\n",
       " (0, 10),\n",
       " (0, 9),\n",
       " (9, 12),\n",
       " (1, 8),\n",
       " (5, 21),\n",
       " (11, 21),\n",
       " (1, 14),\n",
       " (0, 25),\n",
       " (4, 16),\n",
       " (3, 9),\n",
       " (0, 4),\n",
       " (6, 18),\n",
       " (2, 24),\n",
       " (1, 23),\n",
       " (1, 22),\n",
       " (3, 15),\n",
       " (0, 17),\n",
       " (1, 29),\n",
       " (1, 19)]"
      ]
     },
     "execution_count": 10,
     "metadata": {},
     "output_type": "execute_result"
    }
   ],
   "source": [
    "lista_arestas_AGM"
   ]
  }
 ],
 "metadata": {
  "kernelspec": {
   "display_name": "Python 3",
   "language": "python",
   "name": "python3"
  },
  "language_info": {
   "codemirror_mode": {
    "name": "ipython",
    "version": 3
   },
   "file_extension": ".py",
   "mimetype": "text/x-python",
   "name": "python",
   "nbconvert_exporter": "python",
   "pygments_lexer": "ipython3",
   "version": "3.8.8"
  }
 },
 "nbformat": 4,
 "nbformat_minor": 5
}
