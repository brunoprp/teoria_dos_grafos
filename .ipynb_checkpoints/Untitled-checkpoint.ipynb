{
 "cells": [
  {
   "cell_type": "markdown",
   "id": "junior-quarterly",
   "metadata": {},
   "source": [
    "# Isomorfismo\n",
    "   * Lista de exercicio representação de grafos"
   ]
  },
  {
   "cell_type": "markdown",
   "id": "finished-excerpt",
   "metadata": {},
   "source": [
    "## Grafo A"
   ]
  },
  {
   "cell_type": "code",
   "execution_count": null,
   "id": "mineral-invitation",
   "metadata": {},
   "outputs": [],
   "source": [
    "import networkx as nx\n",
    "import numpy as np\n",
    "from itertools import permutations"
   ]
  },
  {
   "cell_type": "markdown",
   "id": "discrete-framework",
   "metadata": {},
   "source": [
    "### Função para representar o grafo com listas de adjacências."
   ]
  },
  {
   "cell_type": "code",
   "execution_count": null,
   "id": "floral-prospect",
   "metadata": {},
   "outputs": [],
   "source": [
    "def org_grafo(lista_grafo):\n",
    "    grafo_org = []\n",
    "\n",
    "    for i in range(0, 20):\n",
    "        aresta = []\n",
    "        for j in range(0, len(lista_grafo)):\n",
    "            if i in lista_grafo[j]:\n",
    "                if lista_grafo[j][0] != i:\n",
    "                    aresta.append(lista_grafo[j][0])\n",
    "                else:\n",
    "                    aresta.append(lista_grafo[j][1])\n",
    "        grafo_org.append(aresta)\n",
    "        \n",
    "    return grafo_org"
   ]
  },
  {
   "cell_type": "code",
   "execution_count": null,
   "id": "quarterly-inside",
   "metadata": {},
   "outputs": [],
   "source": [
    "# Arestas grafo A\n",
    "aresta_grafo_A = [(0, 1), (0, 9), (0, 12), (0, 13), (0, 14), \n",
    "                  (0, 19), (1, 2), (1, 3), (1, 4), (1, 7), \n",
    "                  (1, 8), (1, 9), (1, 10), (1, 11), (1, 12), \n",
    "                  (1, 13), (1, 15), (1, 19), (2, 3), (2, 4), \n",
    "                  (2, 7), (2, 9), (2, 11), (2, 12), (2, 13), \n",
    "                  (2, 15), (2, 16), (3, 5), (3, 6), (3, 8), \n",
    "                  (3, 9), (3, 10), (3, 11), (3, 12), (3, 13), \n",
    "                  (3, 16), (3, 17), (4, 6), (4, 7), (4, 8), \n",
    "                  (4, 12), (4, 15), (4, 17), (4, 18), (4, 19), \n",
    "                  (5, 7), (5, 9), (5, 11), (5, 13), (5, 14), \n",
    "                  (5, 15), (5, 16), (5, 19), (6, 9), (6, 10), \n",
    "                  (6, 11), (6, 12), (6, 13), (6, 14), (6, 15), \n",
    "                  (6, 17), (6, 18), (6, 19), (7, 9), (7, 11), \n",
    "                  (7, 12), (7, 13), (7, 14), (7, 15), (8, 10), \n",
    "                  (8, 11), (8, 12), (8, 14), (8, 15), (8, 17), \n",
    "                  (8, 18), (9, 11), (9, 12), (9, 13), (9, 14), \n",
    "                  (9, 16), (9, 17), (9, 19), (10, 13), (10, 14), \n",
    "                  (10, 16), (10, 19), (11, 12), (11, 13), (11, 14), \n",
    "                  (11, 16), (11, 17), (12, 13), (12, 14), (12, 15), \n",
    "                  (12, 16), (12, 17), (12, 19), (13, 15), (13, 16), \n",
    "                  (14, 18), (14, 19), (15, 16), (15, 17), (15, 18), \n",
    "                  (16, 18), (17, 18), (17, 19), (18, 19)] "
   ]
  },
  {
   "cell_type": "code",
   "execution_count": null,
   "id": "immediate-composition",
   "metadata": {},
   "outputs": [],
   "source": [
    "# Arestas grafo B\n",
    "aresta_grafo_B = [(0, 1), (0, 4), (0, 7), (0, 12), (0, 13), \n",
    "                  (0, 19), (1, 2), (1, 5), (1, 7), (1, 10), \n",
    "                  (1, 11), (1, 12), (1, 16), (1, 17), (1, 18), \n",
    "                  (1, 19), (2, 3), (2, 6), (2, 7), (2, 8), (2, 10), \n",
    "                  (2, 11), (2, 12), (2, 13), (2, 14), (2, 17), \n",
    "                  (2, 19), (3, 4), (3, 7), (3, 8), (3, 9), (3, 10), \n",
    "                  (3, 11), (3, 12), (3, 13), (3, 15), (3, 16), (3, 18), \n",
    "                  (4, 5), (4, 6), (4, 7), (4, 9), (4, 10), (4, 11), \n",
    "                  (4, 12), (4, 13), (4, 14), (4, 18), (4, 19), (5, 6), \n",
    "                  (5, 7), (5, 9), (5, 11), (5, 12), (5, 13), (5, 14), \n",
    "                  (5, 16), (6, 8), (6, 9), (6, 12), (6, 13), (6, 14), \n",
    "                  (6, 15), (6, 16), (6, 17), (6, 18), (7, 8), (7, 9), \n",
    "                  (7, 11), (7, 12), (7, 13), (7, 15), (7, 16), (7, 19),\n",
    "                  (8, 11), (8, 12), (8, 14), (8, 17), (8, 18), (8, 19), \n",
    "                  (9, 11), (9, 12), (9, 13), (9, 14), (9, 15), (10, 13), \n",
    "                  (10, 15), (10, 18), (10, 19), (11, 12), (11, 13), \n",
    "                  (11, 15), (11, 16), (11, 18), (12, 13), (12, 14), \n",
    "                  (12, 15), (12, 18), (12, 19), (13, 15), (13, 16), \n",
    "                  (14, 17), (14, 18), (14, 19), (15, 16), (15, 17), \n",
    "                  (16, 19), (17, 18), (17, 19)]"
   ]
  },
  {
   "cell_type": "code",
   "execution_count": null,
   "id": "married-causing",
   "metadata": {},
   "outputs": [],
   "source": [
    "# Arestas grafo C\n",
    "aresta_grafo_C = [(0, 1), (0, 3), (0, 7), (0, 12), (0, 13), \n",
    "                  (0, 19), (1, 2), (1, 5), (1, 7), (1, 10), \n",
    "                  (1, 11), (1, 12), (1, 16), (1, 17), (1, 18), \n",
    "                  (1, 19), (2, 3), (2, 4), (2, 5), (2, 6), (2, 7), \n",
    "                  (2, 8), (2, 10), (2, 11), (2, 12), (2, 13), \n",
    "                  (2, 14), (2, 17), (2, 19), (3, 4), (3, 7), \n",
    "                  (3, 8), (3, 9), (3, 10), (3, 11), (3, 12), \n",
    "                  (3, 13), (3, 15), (3, 16), (3, 18), (4, 5), \n",
    "                  (4, 7), (4, 9), (4, 10), (4, 11), (4, 12), \n",
    "                  (4, 13), (4, 14), (4, 18), (4, 19), (5, 6), \n",
    "                  (5, 7), (5, 9), (5, 11), (5, 12), (5, 13), \n",
    "                  (5, 14), (5, 16), (6, 8), (6, 9), (6, 12), \n",
    "                  (6, 13), (6, 14), (6, 15), (6, 16), (6, 17), \n",
    "                  (6, 18), (7, 9), (7, 10), (7, 11), (7, 12), \n",
    "                  (7, 13), (7, 15), (7, 16), (7, 19), (8, 11), \n",
    "                  (8, 12), (8, 14), (8, 18), (8, 19), (9, 11), \n",
    "                  (9, 12), (9, 13), (9, 14), (9, 15), (10, 13), \n",
    "                  (10, 15), (10, 17), (10, 18), (10, 19), (11, 12), \n",
    "                  (11, 13), (11, 15), (11, 16), (11, 18), (12, 14), \n",
    "                  (12, 15), (12, 18), (12, 19), (13, 15), (13, 16), \n",
    "                  (14, 17), (14, 18), (14, 19), (15, 16), (15, 17), \n",
    "                  (16, 19), (17, 18), (17, 19)]"
   ]
  },
  {
   "cell_type": "code",
   "execution_count": null,
   "id": "heated-quantum",
   "metadata": {},
   "outputs": [],
   "source": [
    "# Arestas grafo D\n",
    "aresta_grafo_D = [(0, 2), (0, 3), (0, 4), (0, 5), (0, 7), (0, 8), \n",
    "                      (0, 9), (0, 12), (0, 14), (0, 16), (0, 18), (1, 2), \n",
    "                      (1, 4), (1, 6), (1, 7), (1, 8), (1, 9), (1, 10), \n",
    "                      (1, 14), (1, 15), (1, 17), (1, 19), (2, 3), (2, 8), \n",
    "                      (2, 9), (2, 11), (2, 13), (2, 14), (3, 7), (3, 9), \n",
    "                      (3, 10), (3, 11), (3, 13), (3, 14), (3, 15), (3, 19), \n",
    "                      (4, 5), (4, 11), (4, 12), (4, 13), (4, 16), (4, 17), \n",
    "                      (4, 19), (5, 7), (5, 9), (5, 10), (5, 11), (5, 13), \n",
    "                      (5, 16), (5, 17), (5, 18), (6, 9), (6, 13), (6, 16), \n",
    "                      (6, 17), (6, 19), (7, 8), (7, 10), (7, 14), (7, 19), \n",
    "                      (8, 9), (8, 10), (8, 11), (8, 12), (8, 13), (8, 14), \n",
    "                      (8, 15), (8, 16), (8, 17), (8, 19), (9, 11), (9, 12), \n",
    "                      (9, 13), (9, 14), (9, 15), (9, 17), (9, 18), (9, 19), \n",
    "                      (10, 13), (10, 15), (10, 16), (10, 17), (10, 19), \n",
    "                      (11, 12), (11, 13), (11, 15), (11, 16), (11, 17), \n",
    "                      (11, 18), (11, 19), (12, 14), (12, 15), (12, 16), \n",
    "                      (12, 17), (12, 18), (12, 19), (13, 15), (13, 16), \n",
    "                      (13, 17), (13, 18), (14, 15), (14, 18), (15, 16), \n",
    "                      (15, 17), (15, 18), (16, 17), (16, 18), (17, 18), \n",
    "                      (17, 19)]"
   ]
  },
  {
   "cell_type": "markdown",
   "id": "duplicate-mexican",
   "metadata": {},
   "source": [
    "### Representado todos os grafos como listas de adjacências."
   ]
  },
  {
   "cell_type": "code",
   "execution_count": null,
   "id": "dried-surrey",
   "metadata": {},
   "outputs": [],
   "source": [
    "grafo_A = org_grafo(aresta_grafo_A)\n",
    "grafo_B = org_grafo(aresta_grafo_B)\n",
    "grafo_C = org_grafo(aresta_grafo_C)\n",
    "grafo_D = org_grafo(aresta_grafo_D)"
   ]
  },
  {
   "cell_type": "code",
   "execution_count": null,
   "id": "gross-regard",
   "metadata": {},
   "outputs": [],
   "source": [
    "# Arestas do vertice 0 do grafo A\n",
    "grafo_A[6]"
   ]
  },
  {
   "cell_type": "code",
   "execution_count": null,
   "id": "passive-canada",
   "metadata": {},
   "outputs": [],
   "source": [
    "def veriIsomorfos(grafo_1, grafo_2):\n",
    "    \n",
    "    cont_vert = 0\n",
    "    \n",
    "    for i in range(0, len(grafo_1)):\n",
    "        \n",
    "        for j in range(0, len(grafo_2)):\n",
    "            \n",
    "            if  grafo_1[i] == grafo_2[j]:\n",
    "                \n",
    "                cont_vert +=1\n",
    "            \n",
    "    return cont_vert"
   ]
  },
  {
   "cell_type": "code",
   "execution_count": null,
   "id": "light-coach",
   "metadata": {},
   "outputs": [],
   "source": [
    "grafo_a_b = veriIsomorfos(grafo_D, grafo_C)"
   ]
  },
  {
   "cell_type": "code",
   "execution_count": null,
   "id": "personal-nicholas",
   "metadata": {},
   "outputs": [],
   "source": [
    "grafo_a_b"
   ]
  },
  {
   "cell_type": "code",
   "execution_count": null,
   "id": "deadly-shelf",
   "metadata": {},
   "outputs": [],
   "source": [
    "len(grafo_D)"
   ]
  },
  {
   "cell_type": "code",
   "execution_count": null,
   "id": "polished-career",
   "metadata": {},
   "outputs": [],
   "source": [
    "M = nx.Graph(aresta_grafo_A)"
   ]
  },
  {
   "cell_type": "code",
   "execution_count": null,
   "id": "liable-scheduling",
   "metadata": {},
   "outputs": [],
   "source": [
    "nx.draw(M)"
   ]
  },
  {
   "cell_type": "code",
   "execution_count": null,
   "id": "elementary-harris",
   "metadata": {},
   "outputs": [],
   "source": [
    "m = a_g = nx.adjacency_matrix(M)"
   ]
  },
  {
   "cell_type": "code",
   "execution_count": null,
   "id": "cathedral-spank",
   "metadata": {},
   "outputs": [],
   "source": [
    "m"
   ]
  },
  {
   "cell_type": "code",
   "execution_count": null,
   "id": "satisfied-label",
   "metadata": {},
   "outputs": [],
   "source": [
    "sorted(dict(M.degree()).values())"
   ]
  },
  {
   "cell_type": "code",
   "execution_count": null,
   "id": "federal-concrete",
   "metadata": {},
   "outputs": [],
   "source": [
    "\n",
    "\n"
   ]
  },
  {
   "cell_type": "code",
   "execution_count": null,
   "id": "veterinary-roulette",
   "metadata": {},
   "outputs": [],
   "source": [
    "def are_isomorphic(G, H):\n",
    "    \"\"\"Check whether two graphs G and H are isomorphic.\n",
    "    \n",
    "    Note: This function is brute force and very slow.\n",
    "    \n",
    "    args:\n",
    "        G: a networkx Graph\n",
    "        H: a networkx Graph\n",
    "    \n",
    "    returns:\n",
    "    \tTrue if G and H are isomorphic.\n",
    "    \tFalse if G and H are not isomorphic.\n",
    "    \"\"\"\n",
    "    n = len(G.nodes())\n",
    "    m = len(H.nodes())\n",
    "    if n != m:\n",
    "        return False\n",
    "    if sorted(dict(G.degree()).values()) != sorted(dict(H.degree()).values()):\n",
    "        return False\n",
    "    else:\n",
    "        a_g = nx.adjacency_matrix(G)\n",
    "        vertex_perms = list(permutations(H.nodes(), m))\n",
    "        for i in vertex_perms:\n",
    "            a_h = nx.adjacency_matrix(H, i)\n",
    "            \n",
    "            a = (a_h != a_g).nnz == 0\n",
    "            if a == True:\n",
    "                #print(list(zip(G.nodes(), i)), \"is an isomorphism\") \n",
    "                return True\n",
    "        return False\n"
   ]
  },
  {
   "cell_type": "code",
   "execution_count": null,
   "id": "graduate-association",
   "metadata": {},
   "outputs": [],
   "source": [
    "A = nx.Graph()\n",
    "A.add_nodes_from([1, 2, 3, 4, 5])\n",
    "A.add_edges_from([(1, 4), (1, 2), (1, 5), (2, 5), (2, 3), (3, 4), (3, 5)])\n",
    "nx.draw(A)\n",
    "\t\n",
    "B = nx.Graph()\n",
    "B.add_nodes_from(['a', 'b', 'c', 'd', 'e'])\n",
    "B.add_edges_from([('a', 'b'), ('a', 'c'), ('a', 'e'), ('c', 'd'), ('d', 'e'), ('b', 'd'), ('c', 'e')])\n",
    "nx.draw(B)\n",
    "\t\n",
    "print(are_isomorphic(A,B)) #True\n",
    "\t\n",
    "C = nx.Graph([(1, 3), (2, 3), (3, 4), (3, 6), (5, 6), (6, 7), (7, 8), (6, 9), (9, 10)])\n",
    "nx.draw(C)\n",
    "\t\n",
    "D = nx.Graph([('a', 'c'), ('b', 'c'), ('c', 'd'), ('c', 'e'), ('e', 'f'), ('f', 'h'), ('g', 'h'), ('h', 'j'), ('h', 'i')])\n",
    "nx.draw(D)\n",
    "\t\n",
    "print(are_isomorphic(C, D)) #False"
   ]
  },
  {
   "cell_type": "code",
   "execution_count": null,
   "id": "hungry-iceland",
   "metadata": {},
   "outputs": [],
   "source": []
  }
 ],
 "metadata": {
  "kernelspec": {
   "display_name": "Python 3",
   "language": "python",
   "name": "python3"
  },
  "language_info": {
   "codemirror_mode": {
    "name": "ipython",
    "version": 3
   },
   "file_extension": ".py",
   "mimetype": "text/x-python",
   "name": "python",
   "nbconvert_exporter": "python",
   "pygments_lexer": "ipython3",
   "version": "3.8.8"
  }
 },
 "nbformat": 4,
 "nbformat_minor": 5
}
